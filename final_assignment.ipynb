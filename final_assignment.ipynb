{
 "cells": [
  {
   "cell_type": "markdown",
   "metadata": {
    "colab_type": "text",
    "id": "3tgLOnDK9v3u"
   },
   "source": [
    "# Final Assignment\n",
    "By Borna Bengez, Donghyeok Lee, Paula Dodig, Philipp Merz<br><br>\n",
    "\n",
    "## Practical Part\n",
    "# Problem Framing\n",
    "Our task is to predict the churn status of a customer based on corresponding features described in the image below.  \n",
    "![Dataset columns](https://i.ibb.co/gTjBfCn/Screenshot-from-2020-04-20-15-03-29.png\")\n",
    "As shown in the image, the dataset relates whether a customer left a company (1) or not (0), which I'll call the churn status (CHS) in the following, to various predictor variables. In order to predict the CHS properly, a number of questions have to be considered:  \n",
    "1. Are all the features relevant? Are there ID features, near-0 variance features or features that don't make sense to use as predictor features?\n",
    "2. How do we treat missing values? Do we simply remove rows with missing values, do we impute them using the mean / median?\n",
    "3. Do we have to scale any features?\n",
    "4. How do we encode categorical features in the dataset?\n",
    "5. How do we measure performance? If the data is imbalanced, what metric do we use? Can we use the AUC score as a metric or do we also have to consider other measures of performance?\n",
    "6. Related to #1, which features do we discard? Can we use any dimensionality reduction features? How do we select important features?  \n",
    "\n",
    "Most of these questions can be answered after exploring the data in the next section.  \n",
    "The learning problem is a supervised one, as our training data is labelled. Because we have to train a model to predict classes as opposed to a continuous variable, and we have to use a supervised learning algorithm, we can already exlude some learners, including unsupervised learning algorithms.  \n",
    "The dataset is relatively simple in terms of domain-specific knowledge needed to solve the given problem, which means that we won't need help from domain experts.  \n",
    "After having concluded the problem framing section, let's jump into the data exploration.\n",
    "# Data Exploration\n",
    "We uploaded the dataset to a third party hosting website in order to make the collaboration process easier. This changes neither the dataset itself nor does it impact the other sections in any way.\n",
    "\n"
   ]
  },
  {
   "cell_type": "markdown",
   "metadata": {
    "colab_type": "text",
    "id": "iv6gUKY6zMJS"
   },
   "source": [
    "(TODO FOR BORNA)\n",
    "2. Fix the error given by LogisticRegression(Find a way to make it happy with less iterations, probably an alternative solver)\n",
    "3. Find a way to do this on GPU because processing time not fun\n",
    "4. Remove logistic regression"
   ]
  },
  {
   "cell_type": "code",
   "execution_count": 1,
   "metadata": {
    "colab": {},
    "colab_type": "code",
    "id": "Anqf9c_R_j4Y"
   },
   "outputs": [],
   "source": [
    "#Import relevant modules\n",
    "import pandas as pd\n",
    "import sklearn as sk\n",
    "import numpy as np\n",
    "import matplotlib.pyplot as plt\n",
    "import seaborn as sb\n",
    "import math"
   ]
  },
  {
   "cell_type": "code",
   "execution_count": 2,
   "metadata": {
    "colab": {},
    "colab_type": "code",
    "id": "CTZ7rkA3_5kS"
   },
   "outputs": [],
   "source": [
    "#Get the data\n",
    "df = pd.read_csv('http://www.sharecsv.com/dl/d68569bfae8a6d5d8d6c5435a98f0e3e/churn_train.csv')"
   ]
  },
  {
   "cell_type": "code",
   "execution_count": 3,
   "metadata": {
    "colab": {
     "base_uri": "https://localhost:8080/",
     "height": 246
    },
    "colab_type": "code",
    "id": "0i93zprBAnH6",
    "outputId": "e8754de1-c223-4edb-c6f9-85e2e527e1ef"
   },
   "outputs": [
    {
     "data": {
      "text/html": [
       "<div>\n",
       "<style scoped>\n",
       "    .dataframe tbody tr th:only-of-type {\n",
       "        vertical-align: middle;\n",
       "    }\n",
       "\n",
       "    .dataframe tbody tr th {\n",
       "        vertical-align: top;\n",
       "    }\n",
       "\n",
       "    .dataframe thead th {\n",
       "        text-align: right;\n",
       "    }\n",
       "</style>\n",
       "<table border=\"1\" class=\"dataframe\">\n",
       "  <thead>\n",
       "    <tr style=\"text-align: right;\">\n",
       "      <th></th>\n",
       "      <th>state</th>\n",
       "      <th>account_length</th>\n",
       "      <th>area_code</th>\n",
       "      <th>phone_number</th>\n",
       "      <th>international_plan</th>\n",
       "      <th>voice_mail_plan</th>\n",
       "      <th>number_vmail_messages</th>\n",
       "      <th>total_day_minutes</th>\n",
       "      <th>total_day_calls</th>\n",
       "      <th>total_day_charge</th>\n",
       "      <th>...</th>\n",
       "      <th>total_eve_calls</th>\n",
       "      <th>total_eve_charge</th>\n",
       "      <th>total_night_minutes</th>\n",
       "      <th>total_night_calls</th>\n",
       "      <th>total_night_charge</th>\n",
       "      <th>total_intl_minutes</th>\n",
       "      <th>total_intl_calls</th>\n",
       "      <th>total_intl_charge</th>\n",
       "      <th>number_customer_service_calls</th>\n",
       "      <th>churn</th>\n",
       "    </tr>\n",
       "  </thead>\n",
       "  <tbody>\n",
       "    <tr>\n",
       "      <th>0</th>\n",
       "      <td>45.0</td>\n",
       "      <td>106</td>\n",
       "      <td>1.0</td>\n",
       "      <td>1395</td>\n",
       "      <td>0.0</td>\n",
       "      <td>0.0</td>\n",
       "      <td>0</td>\n",
       "      <td>235.2</td>\n",
       "      <td>121</td>\n",
       "      <td>39.98</td>\n",
       "      <td>...</td>\n",
       "      <td>87</td>\n",
       "      <td>18.75</td>\n",
       "      <td>236.3</td>\n",
       "      <td>91</td>\n",
       "      <td>10.63</td>\n",
       "      <td>11.8</td>\n",
       "      <td>4.0</td>\n",
       "      <td>3.19</td>\n",
       "      <td>1.0</td>\n",
       "      <td>0</td>\n",
       "    </tr>\n",
       "    <tr>\n",
       "      <th>1</th>\n",
       "      <td>44.0</td>\n",
       "      <td>51</td>\n",
       "      <td>0.0</td>\n",
       "      <td>4191</td>\n",
       "      <td>0.0</td>\n",
       "      <td>1.0</td>\n",
       "      <td>0</td>\n",
       "      <td>212.9</td>\n",
       "      <td>80</td>\n",
       "      <td>36.19</td>\n",
       "      <td>...</td>\n",
       "      <td>57</td>\n",
       "      <td>20.07</td>\n",
       "      <td>187.6</td>\n",
       "      <td>99</td>\n",
       "      <td>8.44</td>\n",
       "      <td>8.8</td>\n",
       "      <td>4.0</td>\n",
       "      <td>2.38</td>\n",
       "      <td>2.0</td>\n",
       "      <td>0</td>\n",
       "    </tr>\n",
       "    <tr>\n",
       "      <th>2</th>\n",
       "      <td>10.0</td>\n",
       "      <td>64</td>\n",
       "      <td>2.0</td>\n",
       "      <td>4508</td>\n",
       "      <td>0.0</td>\n",
       "      <td>0.0</td>\n",
       "      <td>0</td>\n",
       "      <td>216.9</td>\n",
       "      <td>78</td>\n",
       "      <td>36.87</td>\n",
       "      <td>...</td>\n",
       "      <td>115</td>\n",
       "      <td>17.94</td>\n",
       "      <td>179.8</td>\n",
       "      <td>116</td>\n",
       "      <td>8.09</td>\n",
       "      <td>11.4</td>\n",
       "      <td>5.0</td>\n",
       "      <td>3.08</td>\n",
       "      <td>3.0</td>\n",
       "      <td>0</td>\n",
       "    </tr>\n",
       "    <tr>\n",
       "      <th>3</th>\n",
       "      <td>31.0</td>\n",
       "      <td>59</td>\n",
       "      <td>2.0</td>\n",
       "      <td>1041</td>\n",
       "      <td>1.0</td>\n",
       "      <td>1.0</td>\n",
       "      <td>31</td>\n",
       "      <td>225.0</td>\n",
       "      <td>78</td>\n",
       "      <td>38.25</td>\n",
       "      <td>...</td>\n",
       "      <td>79</td>\n",
       "      <td>16.26</td>\n",
       "      <td>226.7</td>\n",
       "      <td>79</td>\n",
       "      <td>10.20</td>\n",
       "      <td>9.1</td>\n",
       "      <td>3.0</td>\n",
       "      <td>2.46</td>\n",
       "      <td>NaN</td>\n",
       "      <td>0</td>\n",
       "    </tr>\n",
       "    <tr>\n",
       "      <th>4</th>\n",
       "      <td>8.0</td>\n",
       "      <td>136</td>\n",
       "      <td>1.0</td>\n",
       "      <td>1349</td>\n",
       "      <td>0.0</td>\n",
       "      <td>0.0</td>\n",
       "      <td>0</td>\n",
       "      <td>101.7</td>\n",
       "      <td>105</td>\n",
       "      <td>17.29</td>\n",
       "      <td>...</td>\n",
       "      <td>99</td>\n",
       "      <td>17.24</td>\n",
       "      <td>136.2</td>\n",
       "      <td>119</td>\n",
       "      <td>6.13</td>\n",
       "      <td>9.4</td>\n",
       "      <td>6.0</td>\n",
       "      <td>2.54</td>\n",
       "      <td>3.0</td>\n",
       "      <td>0</td>\n",
       "    </tr>\n",
       "  </tbody>\n",
       "</table>\n",
       "<p>5 rows × 21 columns</p>\n",
       "</div>"
      ],
      "text/plain": [
       "   state  account_length  area_code  phone_number  international_plan  \\\n",
       "0   45.0             106        1.0          1395                 0.0   \n",
       "1   44.0              51        0.0          4191                 0.0   \n",
       "2   10.0              64        2.0          4508                 0.0   \n",
       "3   31.0              59        2.0          1041                 1.0   \n",
       "4    8.0             136        1.0          1349                 0.0   \n",
       "\n",
       "   voice_mail_plan  number_vmail_messages  total_day_minutes  total_day_calls  \\\n",
       "0              0.0                      0              235.2              121   \n",
       "1              1.0                      0              212.9               80   \n",
       "2              0.0                      0              216.9               78   \n",
       "3              1.0                     31              225.0               78   \n",
       "4              0.0                      0              101.7              105   \n",
       "\n",
       "   total_day_charge  ...  total_eve_calls  total_eve_charge  \\\n",
       "0             39.98  ...               87             18.75   \n",
       "1             36.19  ...               57             20.07   \n",
       "2             36.87  ...              115             17.94   \n",
       "3             38.25  ...               79             16.26   \n",
       "4             17.29  ...               99             17.24   \n",
       "\n",
       "   total_night_minutes  total_night_calls  total_night_charge  \\\n",
       "0                236.3                 91               10.63   \n",
       "1                187.6                 99                8.44   \n",
       "2                179.8                116                8.09   \n",
       "3                226.7                 79               10.20   \n",
       "4                136.2                119                6.13   \n",
       "\n",
       "   total_intl_minutes  total_intl_calls  total_intl_charge  \\\n",
       "0                11.8               4.0               3.19   \n",
       "1                 8.8               4.0               2.38   \n",
       "2                11.4               5.0               3.08   \n",
       "3                 9.1               3.0               2.46   \n",
       "4                 9.4               6.0               2.54   \n",
       "\n",
       "   number_customer_service_calls  churn  \n",
       "0                            1.0      0  \n",
       "1                            2.0      0  \n",
       "2                            3.0      0  \n",
       "3                            NaN      0  \n",
       "4                            3.0      0  \n",
       "\n",
       "[5 rows x 21 columns]"
      ]
     },
     "execution_count": 3,
     "metadata": {},
     "output_type": "execute_result"
    }
   ],
   "source": [
    "#Get a broad overview, test if data is imported correctly\n",
    "df.head()"
   ]
  },
  {
   "cell_type": "code",
   "execution_count": 4,
   "metadata": {
    "colab": {
     "base_uri": "https://localhost:8080/",
     "height": 176
    },
    "colab_type": "code",
    "id": "uPpk8mKOnFd-",
    "outputId": "ad3fdee2-3162-417c-a84e-8acfb8577374"
   },
   "outputs": [
    {
     "name": "stdout",
     "output_type": "stream",
     "text": [
      "Columns: Index(['state', 'account_length', 'area_code', 'phone_number',\n",
      "       'international_plan', 'voice_mail_plan', 'number_vmail_messages',\n",
      "       'total_day_minutes', 'total_day_calls', 'total_day_charge',\n",
      "       'total_eve_minutes', 'total_eve_calls', 'total_eve_charge',\n",
      "       'total_night_minutes', 'total_night_calls', 'total_night_charge',\n",
      "       'total_intl_minutes', 'total_intl_calls', 'total_intl_charge',\n",
      "       'number_customer_service_calls', 'churn'],\n",
      "      dtype='object')\n",
      "Dimensions: 4000 rows and 21 columns\n"
     ]
    }
   ],
   "source": [
    "print(\"Columns:\", df.columns)\n",
    "print(\"Dimensions:\", df.shape[0], \"rows and\", df.shape[1], \"columns\")"
   ]
  },
  {
   "cell_type": "markdown",
   "metadata": {
    "colab_type": "text",
    "id": "oa22NiVoL4Ol"
   },
   "source": [
    "# Data Exploration\n",
    "\n",
    "From inspecting the column names, the phone number column wouldn't seem to be able to contribute to predict the churn rate as it can't be treated as a continuous, numeric variable, and most certainly isn't connected to the customers churn rate in any way. Because every customer has a different phone number, this feature can be treated as an ID variable. The same applies to the area code. Because ID variables won't be able to contribute to the prediction, we'll discard these variables from the training features.\n",
    "\n"
   ]
  },
  {
   "cell_type": "code",
   "execution_count": 5,
   "metadata": {
    "colab": {},
    "colab_type": "code",
    "id": "NNDuDo62DF19"
   },
   "outputs": [],
   "source": [
    "#Keep track of what cols to remove\n",
    "X_remove = ['phone_number', 'area_code']"
   ]
  },
  {
   "cell_type": "markdown",
   "metadata": {
    "colab_type": "text",
    "id": "NPcbz4IsDLl6"
   },
   "source": [
    "Next, let's check for the variance of our features, since 0 or near-0 variance features won't contribute anything to the model's performance."
   ]
  },
  {
   "cell_type": "code",
   "execution_count": 6,
   "metadata": {
    "colab": {
     "base_uri": "https://localhost:8080/",
     "height": 491
    },
    "colab_type": "code",
    "id": "xsn_2wXKrACJ",
    "outputId": "b390c90b-5372-4f22-e16a-676883313939"
   },
   "outputs": [
    {
     "data": {
      "text/plain": [
       "<matplotlib.axes._subplots.AxesSubplot at 0x7f4aebbe0bd0>"
      ]
     },
     "execution_count": 6,
     "metadata": {},
     "output_type": "execute_result"
    },
    {
     "data": {
      "image/png": "[encoded data removed]",
      "text/plain": [
       "<Figure size 1080x360 with 1 Axes>"
      ]
     },
     "metadata": {
      "needs_background": "light"
     },
     "output_type": "display_data"
    }
   ],
   "source": [
    "plt.figure(figsize=(15,5))\n",
    "df.var().plot(kind='bar', ylim=(0,10))"
   ]
  },
  {
   "cell_type": "markdown",
   "metadata": {
    "colab_type": "text",
    "id": "S6Zn-jntGA_Z"
   },
   "source": [
    "As shown in the plot above, the only near-0 variance features are dichotomous categorical features varying between zero and one, which explaines the low variance relative to other features. In this case, the low variances thus don't tell us anything about those features' information densities, so we won't remove them as we don't want to risk information loss.\n",
    "The only other features with a low variance are the total international charge and the number of customer service calls features. In case of the total international charge, the low variance can be explained by the fact that most customers don't call foreign numbers often, thus not being charged often. The same applies for the number of customer service calls: As most customers don't call the customer service often, the variance of this feature is low. However, dissatisfied customers might call the customer service more often, in which case this could turn out to be an important predictor, so removing it could impact the model negatively. We're also going to find out more about the international charge feature before deciding whether to remove it.  \n",
    "Summarizing the variance inspection, there are no features with a low enough variance to justify removing them.  \n",
    "Next, let's find out if we have to deal with missing values: "
   ]
  },
  {
   "cell_type": "code",
   "execution_count": 7,
   "metadata": {
    "colab": {
     "base_uri": "https://localhost:8080/",
     "height": 87
    },
    "colab_type": "code",
    "id": "Z1eDAbdkF-VZ",
    "outputId": "a44f7964-0e26-4edb-e10e-3eea99242505"
   },
   "outputs": [
    {
     "data": {
      "text/plain": [
       "area_code                         189\n",
       "total_intl_calls                 1076\n",
       "number_customer_service_calls     339\n",
       "dtype: int64"
      ]
     },
     "execution_count": 7,
     "metadata": {},
     "output_type": "execute_result"
    }
   ],
   "source": [
    "df.isna().sum()[df.isna().sum() > 0]"
   ]
  },
  {
   "cell_type": "markdown",
   "metadata": {
    "colab_type": "text",
    "id": "ZI57RZdNIqRs"
   },
   "source": [
    "Seems like there's 3 columns where we have to deal with missing values: area_code, total_intl_calls and number_customer_service_calls. We already decided on removing the area_code feature, leaving two columns, which we'll remove in the [Data Preprocessing](https://colab.research.google.com/drive/1iezA3TVxvkWddUoNvT8O8Nj1enEUJKL4#scrollTo=DscvCclhsZP_&line=4&uniqifier=1) section.<br>\n",
    "Having explored potential missing values, we can also take a look at the correlation matrix of our dataframe in order to find out if there's linearly dependent features, which we could remove in order  to inrease information density of our data to speed up the training time of our models later on:"
   ]
  },
  {
   "cell_type": "code",
   "execution_count": 8,
   "metadata": {
    "colab": {
     "base_uri": "https://localhost:8080/",
     "height": 637
    },
    "colab_type": "code",
    "id": "1cvp8mEwsVtw",
    "outputId": "4fd88066-442d-427f-913f-3f7160b53d38"
   },
   "outputs": [
    {
     "data": {
      "text/html": [
       "<div>\n",
       "<style scoped>\n",
       "    .dataframe tbody tr th:only-of-type {\n",
       "        vertical-align: middle;\n",
       "    }\n",
       "\n",
       "    .dataframe tbody tr th {\n",
       "        vertical-align: top;\n",
       "    }\n",
       "\n",
       "    .dataframe thead th {\n",
       "        text-align: right;\n",
       "    }\n",
       "</style>\n",
       "<table border=\"1\" class=\"dataframe\">\n",
       "  <thead>\n",
       "    <tr style=\"text-align: right;\">\n",
       "      <th></th>\n",
       "      <th>state</th>\n",
       "      <th>account_length</th>\n",
       "      <th>international_plan</th>\n",
       "      <th>voice_mail_plan</th>\n",
       "      <th>number_vmail_messages</th>\n",
       "      <th>total_day_minutes</th>\n",
       "      <th>total_day_calls</th>\n",
       "      <th>total_day_charge</th>\n",
       "      <th>total_eve_minutes</th>\n",
       "      <th>total_eve_calls</th>\n",
       "      <th>total_eve_charge</th>\n",
       "      <th>total_night_minutes</th>\n",
       "      <th>total_night_calls</th>\n",
       "      <th>total_night_charge</th>\n",
       "      <th>total_intl_minutes</th>\n",
       "      <th>total_intl_calls</th>\n",
       "      <th>total_intl_charge</th>\n",
       "      <th>number_customer_service_calls</th>\n",
       "      <th>churn</th>\n",
       "    </tr>\n",
       "  </thead>\n",
       "  <tbody>\n",
       "    <tr>\n",
       "      <th>state</th>\n",
       "      <td>1.000000</td>\n",
       "      <td>0.003513</td>\n",
       "      <td>0.011494</td>\n",
       "      <td>-0.018783</td>\n",
       "      <td>-0.015936</td>\n",
       "      <td>0.016155</td>\n",
       "      <td>-0.015254</td>\n",
       "      <td>0.016156</td>\n",
       "      <td>0.010843</td>\n",
       "      <td>-0.018728</td>\n",
       "      <td>0.010841</td>\n",
       "      <td>0.010900</td>\n",
       "      <td>0.011504</td>\n",
       "      <td>0.010900</td>\n",
       "      <td>-0.010167</td>\n",
       "      <td>0.015736</td>\n",
       "      <td>-0.010179</td>\n",
       "      <td>-0.021471</td>\n",
       "      <td>0.004918</td>\n",
       "    </tr>\n",
       "    <tr>\n",
       "      <th>account_length</th>\n",
       "      <td>0.003513</td>\n",
       "      <td>1.000000</td>\n",
       "      <td>0.019241</td>\n",
       "      <td>-0.006118</td>\n",
       "      <td>-0.012586</td>\n",
       "      <td>0.016350</td>\n",
       "      <td>0.014147</td>\n",
       "      <td>0.016343</td>\n",
       "      <td>-0.016113</td>\n",
       "      <td>0.004641</td>\n",
       "      <td>-0.016107</td>\n",
       "      <td>0.004272</td>\n",
       "      <td>-0.002164</td>\n",
       "      <td>0.004270</td>\n",
       "      <td>0.004914</td>\n",
       "      <td>0.003646</td>\n",
       "      <td>0.004927</td>\n",
       "      <td>0.002826</td>\n",
       "      <td>0.028914</td>\n",
       "    </tr>\n",
       "    <tr>\n",
       "      <th>international_plan</th>\n",
       "      <td>0.011494</td>\n",
       "      <td>0.019241</td>\n",
       "      <td>1.000000</td>\n",
       "      <td>0.008984</td>\n",
       "      <td>0.008214</td>\n",
       "      <td>0.033676</td>\n",
       "      <td>0.014397</td>\n",
       "      <td>0.033677</td>\n",
       "      <td>0.015196</td>\n",
       "      <td>0.001709</td>\n",
       "      <td>0.015194</td>\n",
       "      <td>-0.035088</td>\n",
       "      <td>0.012622</td>\n",
       "      <td>-0.035106</td>\n",
       "      <td>0.037087</td>\n",
       "      <td>-0.015320</td>\n",
       "      <td>0.037038</td>\n",
       "      <td>-0.009878</td>\n",
       "      <td>0.259735</td>\n",
       "    </tr>\n",
       "    <tr>\n",
       "      <th>voice_mail_plan</th>\n",
       "      <td>-0.018783</td>\n",
       "      <td>-0.006118</td>\n",
       "      <td>0.008984</td>\n",
       "      <td>1.000000</td>\n",
       "      <td>0.955515</td>\n",
       "      <td>0.011676</td>\n",
       "      <td>0.004742</td>\n",
       "      <td>0.011672</td>\n",
       "      <td>0.013618</td>\n",
       "      <td>0.004103</td>\n",
       "      <td>0.013614</td>\n",
       "      <td>0.019516</td>\n",
       "      <td>0.001114</td>\n",
       "      <td>0.019514</td>\n",
       "      <td>-0.001354</td>\n",
       "      <td>-0.011262</td>\n",
       "      <td>-0.001288</td>\n",
       "      <td>-0.008019</td>\n",
       "      <td>-0.117851</td>\n",
       "    </tr>\n",
       "    <tr>\n",
       "      <th>number_vmail_messages</th>\n",
       "      <td>-0.015936</td>\n",
       "      <td>-0.012586</td>\n",
       "      <td>0.008214</td>\n",
       "      <td>0.955515</td>\n",
       "      <td>1.000000</td>\n",
       "      <td>0.017926</td>\n",
       "      <td>0.006385</td>\n",
       "      <td>0.017922</td>\n",
       "      <td>0.010221</td>\n",
       "      <td>0.007188</td>\n",
       "      <td>0.010220</td>\n",
       "      <td>0.018582</td>\n",
       "      <td>-0.001993</td>\n",
       "      <td>0.018575</td>\n",
       "      <td>-0.003308</td>\n",
       "      <td>-0.003436</td>\n",
       "      <td>-0.003250</td>\n",
       "      <td>-0.006125</td>\n",
       "      <td>-0.109572</td>\n",
       "    </tr>\n",
       "    <tr>\n",
       "      <th>total_day_minutes</th>\n",
       "      <td>0.016155</td>\n",
       "      <td>0.016350</td>\n",
       "      <td>0.033676</td>\n",
       "      <td>0.011676</td>\n",
       "      <td>0.017926</td>\n",
       "      <td>1.000000</td>\n",
       "      <td>-0.008437</td>\n",
       "      <td>1.000000</td>\n",
       "      <td>0.003441</td>\n",
       "      <td>0.001353</td>\n",
       "      <td>0.003424</td>\n",
       "      <td>0.016098</td>\n",
       "      <td>0.013053</td>\n",
       "      <td>0.016079</td>\n",
       "      <td>-0.020382</td>\n",
       "      <td>-0.008187</td>\n",
       "      <td>-0.020321</td>\n",
       "      <td>0.014543</td>\n",
       "      <td>0.227877</td>\n",
       "    </tr>\n",
       "    <tr>\n",
       "      <th>total_day_calls</th>\n",
       "      <td>-0.015254</td>\n",
       "      <td>0.014147</td>\n",
       "      <td>0.014397</td>\n",
       "      <td>0.004742</td>\n",
       "      <td>0.006385</td>\n",
       "      <td>-0.008437</td>\n",
       "      <td>1.000000</td>\n",
       "      <td>-0.008439</td>\n",
       "      <td>0.005256</td>\n",
       "      <td>0.010696</td>\n",
       "      <td>0.005271</td>\n",
       "      <td>0.003384</td>\n",
       "      <td>-0.015274</td>\n",
       "      <td>0.003390</td>\n",
       "      <td>0.009566</td>\n",
       "      <td>0.005312</td>\n",
       "      <td>0.009610</td>\n",
       "      <td>-0.014693</td>\n",
       "      <td>0.028430</td>\n",
       "    </tr>\n",
       "    <tr>\n",
       "      <th>total_day_charge</th>\n",
       "      <td>0.016156</td>\n",
       "      <td>0.016343</td>\n",
       "      <td>0.033677</td>\n",
       "      <td>0.011672</td>\n",
       "      <td>0.017922</td>\n",
       "      <td>1.000000</td>\n",
       "      <td>-0.008439</td>\n",
       "      <td>1.000000</td>\n",
       "      <td>0.003443</td>\n",
       "      <td>0.001354</td>\n",
       "      <td>0.003427</td>\n",
       "      <td>0.016103</td>\n",
       "      <td>0.013054</td>\n",
       "      <td>0.016085</td>\n",
       "      <td>-0.020388</td>\n",
       "      <td>-0.008195</td>\n",
       "      <td>-0.020326</td>\n",
       "      <td>0.014535</td>\n",
       "      <td>0.227871</td>\n",
       "    </tr>\n",
       "    <tr>\n",
       "      <th>total_eve_minutes</th>\n",
       "      <td>0.010843</td>\n",
       "      <td>-0.016113</td>\n",
       "      <td>0.015196</td>\n",
       "      <td>0.013618</td>\n",
       "      <td>0.010221</td>\n",
       "      <td>0.003441</td>\n",
       "      <td>0.005256</td>\n",
       "      <td>0.003443</td>\n",
       "      <td>1.000000</td>\n",
       "      <td>-0.000709</td>\n",
       "      <td>1.000000</td>\n",
       "      <td>-0.024282</td>\n",
       "      <td>0.017481</td>\n",
       "      <td>-0.024294</td>\n",
       "      <td>0.000731</td>\n",
       "      <td>0.006359</td>\n",
       "      <td>0.000783</td>\n",
       "      <td>-0.005460</td>\n",
       "      <td>0.099741</td>\n",
       "    </tr>\n",
       "    <tr>\n",
       "      <th>total_eve_calls</th>\n",
       "      <td>-0.018728</td>\n",
       "      <td>0.004641</td>\n",
       "      <td>0.001709</td>\n",
       "      <td>0.004103</td>\n",
       "      <td>0.007188</td>\n",
       "      <td>0.001353</td>\n",
       "      <td>0.010696</td>\n",
       "      <td>0.001354</td>\n",
       "      <td>-0.000709</td>\n",
       "      <td>1.000000</td>\n",
       "      <td>-0.000695</td>\n",
       "      <td>-0.004045</td>\n",
       "      <td>-0.022881</td>\n",
       "      <td>-0.004029</td>\n",
       "      <td>0.000539</td>\n",
       "      <td>-0.016859</td>\n",
       "      <td>0.000447</td>\n",
       "      <td>0.001229</td>\n",
       "      <td>-0.005107</td>\n",
       "    </tr>\n",
       "    <tr>\n",
       "      <th>total_eve_charge</th>\n",
       "      <td>0.010841</td>\n",
       "      <td>-0.016107</td>\n",
       "      <td>0.015194</td>\n",
       "      <td>0.013614</td>\n",
       "      <td>0.010220</td>\n",
       "      <td>0.003424</td>\n",
       "      <td>0.005271</td>\n",
       "      <td>0.003427</td>\n",
       "      <td>1.000000</td>\n",
       "      <td>-0.000695</td>\n",
       "      <td>1.000000</td>\n",
       "      <td>-0.024292</td>\n",
       "      <td>0.017484</td>\n",
       "      <td>-0.024304</td>\n",
       "      <td>0.000727</td>\n",
       "      <td>0.006354</td>\n",
       "      <td>0.000779</td>\n",
       "      <td>-0.005472</td>\n",
       "      <td>0.099735</td>\n",
       "    </tr>\n",
       "    <tr>\n",
       "      <th>total_night_minutes</th>\n",
       "      <td>0.010900</td>\n",
       "      <td>0.004272</td>\n",
       "      <td>-0.035088</td>\n",
       "      <td>0.019516</td>\n",
       "      <td>0.018582</td>\n",
       "      <td>0.016098</td>\n",
       "      <td>0.003384</td>\n",
       "      <td>0.016103</td>\n",
       "      <td>-0.024282</td>\n",
       "      <td>-0.004045</td>\n",
       "      <td>-0.024292</td>\n",
       "      <td>1.000000</td>\n",
       "      <td>0.022698</td>\n",
       "      <td>0.999999</td>\n",
       "      <td>-0.012077</td>\n",
       "      <td>-0.015114</td>\n",
       "      <td>-0.011997</td>\n",
       "      <td>0.002268</td>\n",
       "      <td>0.048145</td>\n",
       "    </tr>\n",
       "    <tr>\n",
       "      <th>total_night_calls</th>\n",
       "      <td>0.011504</td>\n",
       "      <td>-0.002164</td>\n",
       "      <td>0.012622</td>\n",
       "      <td>0.001114</td>\n",
       "      <td>-0.001993</td>\n",
       "      <td>0.013053</td>\n",
       "      <td>-0.015274</td>\n",
       "      <td>0.013054</td>\n",
       "      <td>0.017481</td>\n",
       "      <td>-0.022881</td>\n",
       "      <td>0.017484</td>\n",
       "      <td>0.022698</td>\n",
       "      <td>1.000000</td>\n",
       "      <td>0.022687</td>\n",
       "      <td>0.001442</td>\n",
       "      <td>0.014014</td>\n",
       "      <td>0.001402</td>\n",
       "      <td>-0.024641</td>\n",
       "      <td>-0.000763</td>\n",
       "    </tr>\n",
       "    <tr>\n",
       "      <th>total_night_charge</th>\n",
       "      <td>0.010900</td>\n",
       "      <td>0.004270</td>\n",
       "      <td>-0.035106</td>\n",
       "      <td>0.019514</td>\n",
       "      <td>0.018575</td>\n",
       "      <td>0.016079</td>\n",
       "      <td>0.003390</td>\n",
       "      <td>0.016085</td>\n",
       "      <td>-0.024294</td>\n",
       "      <td>-0.004029</td>\n",
       "      <td>-0.024304</td>\n",
       "      <td>0.999999</td>\n",
       "      <td>0.022687</td>\n",
       "      <td>1.000000</td>\n",
       "      <td>-0.012063</td>\n",
       "      <td>-0.015077</td>\n",
       "      <td>-0.011982</td>\n",
       "      <td>0.002308</td>\n",
       "      <td>0.048142</td>\n",
       "    </tr>\n",
       "    <tr>\n",
       "      <th>total_intl_minutes</th>\n",
       "      <td>-0.010167</td>\n",
       "      <td>0.004914</td>\n",
       "      <td>0.037087</td>\n",
       "      <td>-0.001354</td>\n",
       "      <td>-0.003308</td>\n",
       "      <td>-0.020382</td>\n",
       "      <td>0.009566</td>\n",
       "      <td>-0.020388</td>\n",
       "      <td>0.000731</td>\n",
       "      <td>0.000539</td>\n",
       "      <td>0.000727</td>\n",
       "      <td>-0.012077</td>\n",
       "      <td>0.001442</td>\n",
       "      <td>-0.012063</td>\n",
       "      <td>1.000000</td>\n",
       "      <td>0.009947</td>\n",
       "      <td>0.999993</td>\n",
       "      <td>-0.023187</td>\n",
       "      <td>0.080344</td>\n",
       "    </tr>\n",
       "    <tr>\n",
       "      <th>total_intl_calls</th>\n",
       "      <td>0.015736</td>\n",
       "      <td>0.003646</td>\n",
       "      <td>-0.015320</td>\n",
       "      <td>-0.011262</td>\n",
       "      <td>-0.003436</td>\n",
       "      <td>-0.008187</td>\n",
       "      <td>0.005312</td>\n",
       "      <td>-0.008195</td>\n",
       "      <td>0.006359</td>\n",
       "      <td>-0.016859</td>\n",
       "      <td>0.006354</td>\n",
       "      <td>-0.015114</td>\n",
       "      <td>0.014014</td>\n",
       "      <td>-0.015077</td>\n",
       "      <td>0.009947</td>\n",
       "      <td>1.000000</td>\n",
       "      <td>0.010112</td>\n",
       "      <td>-0.030249</td>\n",
       "      <td>-0.064847</td>\n",
       "    </tr>\n",
       "    <tr>\n",
       "      <th>total_intl_charge</th>\n",
       "      <td>-0.010179</td>\n",
       "      <td>0.004927</td>\n",
       "      <td>0.037038</td>\n",
       "      <td>-0.001288</td>\n",
       "      <td>-0.003250</td>\n",
       "      <td>-0.020321</td>\n",
       "      <td>0.009610</td>\n",
       "      <td>-0.020326</td>\n",
       "      <td>0.000783</td>\n",
       "      <td>0.000447</td>\n",
       "      <td>0.000779</td>\n",
       "      <td>-0.011997</td>\n",
       "      <td>0.001402</td>\n",
       "      <td>-0.011982</td>\n",
       "      <td>0.999993</td>\n",
       "      <td>0.010112</td>\n",
       "      <td>1.000000</td>\n",
       "      <td>-0.023252</td>\n",
       "      <td>0.080353</td>\n",
       "    </tr>\n",
       "    <tr>\n",
       "      <th>number_customer_service_calls</th>\n",
       "      <td>-0.021471</td>\n",
       "      <td>0.002826</td>\n",
       "      <td>-0.009878</td>\n",
       "      <td>-0.008019</td>\n",
       "      <td>-0.006125</td>\n",
       "      <td>0.014543</td>\n",
       "      <td>-0.014693</td>\n",
       "      <td>0.014535</td>\n",
       "      <td>-0.005460</td>\n",
       "      <td>0.001229</td>\n",
       "      <td>-0.005472</td>\n",
       "      <td>0.002268</td>\n",
       "      <td>-0.024641</td>\n",
       "      <td>0.002308</td>\n",
       "      <td>-0.023187</td>\n",
       "      <td>-0.030249</td>\n",
       "      <td>-0.023252</td>\n",
       "      <td>1.000000</td>\n",
       "      <td>0.206749</td>\n",
       "    </tr>\n",
       "    <tr>\n",
       "      <th>churn</th>\n",
       "      <td>0.004918</td>\n",
       "      <td>0.028914</td>\n",
       "      <td>0.259735</td>\n",
       "      <td>-0.117851</td>\n",
       "      <td>-0.109572</td>\n",
       "      <td>0.227877</td>\n",
       "      <td>0.028430</td>\n",
       "      <td>0.227871</td>\n",
       "      <td>0.099741</td>\n",
       "      <td>-0.005107</td>\n",
       "      <td>0.099735</td>\n",
       "      <td>0.048145</td>\n",
       "      <td>-0.000763</td>\n",
       "      <td>0.048142</td>\n",
       "      <td>0.080344</td>\n",
       "      <td>-0.064847</td>\n",
       "      <td>0.080353</td>\n",
       "      <td>0.206749</td>\n",
       "      <td>1.000000</td>\n",
       "    </tr>\n",
       "  </tbody>\n",
       "</table>\n",
       "</div>"
      ],
      "text/plain": [
       "                                  state  account_length  international_plan  \\\n",
       "state                          1.000000        0.003513            0.011494   \n",
       "account_length                 0.003513        1.000000            0.019241   \n",
       "international_plan             0.011494        0.019241            1.000000   \n",
       "voice_mail_plan               -0.018783       -0.006118            0.008984   \n",
       "number_vmail_messages         -0.015936       -0.012586            0.008214   \n",
       "total_day_minutes              0.016155        0.016350            0.033676   \n",
       "total_day_calls               -0.015254        0.014147            0.014397   \n",
       "total_day_charge               0.016156        0.016343            0.033677   \n",
       "total_eve_minutes              0.010843       -0.016113            0.015196   \n",
       "total_eve_calls               -0.018728        0.004641            0.001709   \n",
       "total_eve_charge               0.010841       -0.016107            0.015194   \n",
       "total_night_minutes            0.010900        0.004272           -0.035088   \n",
       "total_night_calls              0.011504       -0.002164            0.012622   \n",
       "total_night_charge             0.010900        0.004270           -0.035106   \n",
       "total_intl_minutes            -0.010167        0.004914            0.037087   \n",
       "total_intl_calls               0.015736        0.003646           -0.015320   \n",
       "total_intl_charge             -0.010179        0.004927            0.037038   \n",
       "number_customer_service_calls -0.021471        0.002826           -0.009878   \n",
       "churn                          0.004918        0.028914            0.259735   \n",
       "\n",
       "                               voice_mail_plan  number_vmail_messages  \\\n",
       "state                                -0.018783              -0.015936   \n",
       "account_length                       -0.006118              -0.012586   \n",
       "international_plan                    0.008984               0.008214   \n",
       "voice_mail_plan                       1.000000               0.955515   \n",
       "number_vmail_messages                 0.955515               1.000000   \n",
       "total_day_minutes                     0.011676               0.017926   \n",
       "total_day_calls                       0.004742               0.006385   \n",
       "total_day_charge                      0.011672               0.017922   \n",
       "total_eve_minutes                     0.013618               0.010221   \n",
       "total_eve_calls                       0.004103               0.007188   \n",
       "total_eve_charge                      0.013614               0.010220   \n",
       "total_night_minutes                   0.019516               0.018582   \n",
       "total_night_calls                     0.001114              -0.001993   \n",
       "total_night_charge                    0.019514               0.018575   \n",
       "total_intl_minutes                   -0.001354              -0.003308   \n",
       "total_intl_calls                     -0.011262              -0.003436   \n",
       "total_intl_charge                    -0.001288              -0.003250   \n",
       "number_customer_service_calls        -0.008019              -0.006125   \n",
       "churn                                -0.117851              -0.109572   \n",
       "\n",
       "                               total_day_minutes  total_day_calls  \\\n",
       "state                                   0.016155        -0.015254   \n",
       "account_length                          0.016350         0.014147   \n",
       "international_plan                      0.033676         0.014397   \n",
       "voice_mail_plan                         0.011676         0.004742   \n",
       "number_vmail_messages                   0.017926         0.006385   \n",
       "total_day_minutes                       1.000000        -0.008437   \n",
       "total_day_calls                        -0.008437         1.000000   \n",
       "total_day_charge                        1.000000        -0.008439   \n",
       "total_eve_minutes                       0.003441         0.005256   \n",
       "total_eve_calls                         0.001353         0.010696   \n",
       "total_eve_charge                        0.003424         0.005271   \n",
       "total_night_minutes                     0.016098         0.003384   \n",
       "total_night_calls                       0.013053        -0.015274   \n",
       "total_night_charge                      0.016079         0.003390   \n",
       "total_intl_minutes                     -0.020382         0.009566   \n",
       "total_intl_calls                       -0.008187         0.005312   \n",
       "total_intl_charge                      -0.020321         0.009610   \n",
       "number_customer_service_calls           0.014543        -0.014693   \n",
       "churn                                   0.227877         0.028430   \n",
       "\n",
       "                               total_day_charge  total_eve_minutes  \\\n",
       "state                                  0.016156           0.010843   \n",
       "account_length                         0.016343          -0.016113   \n",
       "international_plan                     0.033677           0.015196   \n",
       "voice_mail_plan                        0.011672           0.013618   \n",
       "number_vmail_messages                  0.017922           0.010221   \n",
       "total_day_minutes                      1.000000           0.003441   \n",
       "total_day_calls                       -0.008439           0.005256   \n",
       "total_day_charge                       1.000000           0.003443   \n",
       "total_eve_minutes                      0.003443           1.000000   \n",
       "total_eve_calls                        0.001354          -0.000709   \n",
       "total_eve_charge                       0.003427           1.000000   \n",
       "total_night_minutes                    0.016103          -0.024282   \n",
       "total_night_calls                      0.013054           0.017481   \n",
       "total_night_charge                     0.016085          -0.024294   \n",
       "total_intl_minutes                    -0.020388           0.000731   \n",
       "total_intl_calls                      -0.008195           0.006359   \n",
       "total_intl_charge                     -0.020326           0.000783   \n",
       "number_customer_service_calls          0.014535          -0.005460   \n",
       "churn                                  0.227871           0.099741   \n",
       "\n",
       "                               total_eve_calls  total_eve_charge  \\\n",
       "state                                -0.018728          0.010841   \n",
       "account_length                        0.004641         -0.016107   \n",
       "international_plan                    0.001709          0.015194   \n",
       "voice_mail_plan                       0.004103          0.013614   \n",
       "number_vmail_messages                 0.007188          0.010220   \n",
       "total_day_minutes                     0.001353          0.003424   \n",
       "total_day_calls                       0.010696          0.005271   \n",
       "total_day_charge                      0.001354          0.003427   \n",
       "total_eve_minutes                    -0.000709          1.000000   \n",
       "total_eve_calls                       1.000000         -0.000695   \n",
       "total_eve_charge                     -0.000695          1.000000   \n",
       "total_night_minutes                  -0.004045         -0.024292   \n",
       "total_night_calls                    -0.022881          0.017484   \n",
       "total_night_charge                   -0.004029         -0.024304   \n",
       "total_intl_minutes                    0.000539          0.000727   \n",
       "total_intl_calls                     -0.016859          0.006354   \n",
       "total_intl_charge                     0.000447          0.000779   \n",
       "number_customer_service_calls         0.001229         -0.005472   \n",
       "churn                                -0.005107          0.099735   \n",
       "\n",
       "                               total_night_minutes  total_night_calls  \\\n",
       "state                                     0.010900           0.011504   \n",
       "account_length                            0.004272          -0.002164   \n",
       "international_plan                       -0.035088           0.012622   \n",
       "voice_mail_plan                           0.019516           0.001114   \n",
       "number_vmail_messages                     0.018582          -0.001993   \n",
       "total_day_minutes                         0.016098           0.013053   \n",
       "total_day_calls                           0.003384          -0.015274   \n",
       "total_day_charge                          0.016103           0.013054   \n",
       "total_eve_minutes                        -0.024282           0.017481   \n",
       "total_eve_calls                          -0.004045          -0.022881   \n",
       "total_eve_charge                         -0.024292           0.017484   \n",
       "total_night_minutes                       1.000000           0.022698   \n",
       "total_night_calls                         0.022698           1.000000   \n",
       "total_night_charge                        0.999999           0.022687   \n",
       "total_intl_minutes                       -0.012077           0.001442   \n",
       "total_intl_calls                         -0.015114           0.014014   \n",
       "total_intl_charge                        -0.011997           0.001402   \n",
       "number_customer_service_calls             0.002268          -0.024641   \n",
       "churn                                     0.048145          -0.000763   \n",
       "\n",
       "                               total_night_charge  total_intl_minutes  \\\n",
       "state                                    0.010900           -0.010167   \n",
       "account_length                           0.004270            0.004914   \n",
       "international_plan                      -0.035106            0.037087   \n",
       "voice_mail_plan                          0.019514           -0.001354   \n",
       "number_vmail_messages                    0.018575           -0.003308   \n",
       "total_day_minutes                        0.016079           -0.020382   \n",
       "total_day_calls                          0.003390            0.009566   \n",
       "total_day_charge                         0.016085           -0.020388   \n",
       "total_eve_minutes                       -0.024294            0.000731   \n",
       "total_eve_calls                         -0.004029            0.000539   \n",
       "total_eve_charge                        -0.024304            0.000727   \n",
       "total_night_minutes                      0.999999           -0.012077   \n",
       "total_night_calls                        0.022687            0.001442   \n",
       "total_night_charge                       1.000000           -0.012063   \n",
       "total_intl_minutes                      -0.012063            1.000000   \n",
       "total_intl_calls                        -0.015077            0.009947   \n",
       "total_intl_charge                       -0.011982            0.999993   \n",
       "number_customer_service_calls            0.002308           -0.023187   \n",
       "churn                                    0.048142            0.080344   \n",
       "\n",
       "                               total_intl_calls  total_intl_charge  \\\n",
       "state                                  0.015736          -0.010179   \n",
       "account_length                         0.003646           0.004927   \n",
       "international_plan                    -0.015320           0.037038   \n",
       "voice_mail_plan                       -0.011262          -0.001288   \n",
       "number_vmail_messages                 -0.003436          -0.003250   \n",
       "total_day_minutes                     -0.008187          -0.020321   \n",
       "total_day_calls                        0.005312           0.009610   \n",
       "total_day_charge                      -0.008195          -0.020326   \n",
       "total_eve_minutes                      0.006359           0.000783   \n",
       "total_eve_calls                       -0.016859           0.000447   \n",
       "total_eve_charge                       0.006354           0.000779   \n",
       "total_night_minutes                   -0.015114          -0.011997   \n",
       "total_night_calls                      0.014014           0.001402   \n",
       "total_night_charge                    -0.015077          -0.011982   \n",
       "total_intl_minutes                     0.009947           0.999993   \n",
       "total_intl_calls                       1.000000           0.010112   \n",
       "total_intl_charge                      0.010112           1.000000   \n",
       "number_customer_service_calls         -0.030249          -0.023252   \n",
       "churn                                 -0.064847           0.080353   \n",
       "\n",
       "                               number_customer_service_calls     churn  \n",
       "state                                              -0.021471  0.004918  \n",
       "account_length                                      0.002826  0.028914  \n",
       "international_plan                                 -0.009878  0.259735  \n",
       "voice_mail_plan                                    -0.008019 -0.117851  \n",
       "number_vmail_messages                              -0.006125 -0.109572  \n",
       "total_day_minutes                                   0.014543  0.227877  \n",
       "total_day_calls                                    -0.014693  0.028430  \n",
       "total_day_charge                                    0.014535  0.227871  \n",
       "total_eve_minutes                                  -0.005460  0.099741  \n",
       "total_eve_calls                                     0.001229 -0.005107  \n",
       "total_eve_charge                                   -0.005472  0.099735  \n",
       "total_night_minutes                                 0.002268  0.048145  \n",
       "total_night_calls                                  -0.024641 -0.000763  \n",
       "total_night_charge                                  0.002308  0.048142  \n",
       "total_intl_minutes                                 -0.023187  0.080344  \n",
       "total_intl_calls                                   -0.030249 -0.064847  \n",
       "total_intl_charge                                  -0.023252  0.080353  \n",
       "number_customer_service_calls                       1.000000  0.206749  \n",
       "churn                                               0.206749  1.000000  "
      ]
     },
     "execution_count": 8,
     "metadata": {},
     "output_type": "execute_result"
    }
   ],
   "source": [
    "C = df.drop(X_remove, axis=1).corr()\n",
    "C"
   ]
  },
  {
   "cell_type": "markdown",
   "metadata": {
    "colab_type": "text",
    "id": "cYRT44yLuYVD"
   },
   "source": [
    "This correlation matrix is hard to visually comprehend, so let's plot it as a heatmap:"
   ]
  },
  {
   "cell_type": "code",
   "execution_count": 9,
   "metadata": {
    "colab": {
     "base_uri": "https://localhost:8080/",
     "height": 1000
    },
    "colab_type": "code",
    "id": "_B7LCfiTsYMI",
    "outputId": "11f6a054-ddc6-44a7-9271-6fcbb65c748a"
   },
   "outputs": [
    {
     "data": {
      "text/plain": [
       "<matplotlib.axes._subplots.AxesSubplot at 0x7f4ae896ce50>"
      ]
     },
     "execution_count": 9,
     "metadata": {},
     "output_type": "execute_result"
    },
    {
     "data": {
      "image/png": "[encoded data removed]",
      "text/plain": [
       "<Figure size 1080x1080 with 2 Axes>"
      ]
     },
     "metadata": {
      "needs_background": "light"
     },
     "output_type": "display_data"
    }
   ],
   "source": [
    "plt.figure(figsize=(15,15))\n",
    "sb.heatmap(C, annot=True)"
   ]
  },
  {
   "cell_type": "markdown",
   "metadata": {
    "colab_type": "text",
    "id": "MmpTTWSuIxnn"
   },
   "source": [
    "As we can see in the heatmap, there's a number of columns with a correlation coefficient of one, meaning these pairs of features depend on each other linearly. When taking a look at the names of the columns, we can see that the pairs of linearly dependent features always combine cost and number / length of calls for a customer. The total correlation makes sense as phone companies charge their customers per minute, so the longer a customer is on a call, the more they're charged for the call.  <br>\n",
    "The last thing to check for are outliers, so let's boxplot all the features first:"
   ]
  },
  {
   "cell_type": "code",
   "execution_count": 10,
   "metadata": {
    "colab": {
     "base_uri": "https://localhost:8080/",
     "height": 1000
    },
    "colab_type": "code",
    "id": "YxrI9avQzEmr",
    "outputId": "980cd1d2-3e44-4998-e46b-0e89b2d49005"
   },
   "outputs": [
    {
     "data": {
      "image/png": "[encoded data removed]",
      "text/plain": [
       "<Figure size 1440x1440 with 21 Axes>"
      ]
     },
     "metadata": {
      "needs_background": "light"
     },
     "output_type": "display_data"
    }
   ],
   "source": [
    "#Figure for 21 boxplots, one for every column\n",
    "fig, ax = plt.subplots(7, 3)\n",
    "fig.set_size_inches(20, 20)\n",
    "\n",
    "i = 0\n",
    "for column in df:\n",
    "  #Drop NaNs because otherwise boxplot can't display\n",
    "  ax[math.floor(i/3), i%3].boxplot(df[column].dropna());\n",
    "  ax[math.floor(i/3), i%3].set_title(column)\n",
    "  i += 1"
   ]
  },
  {
   "cell_type": "markdown",
   "metadata": {
    "colab_type": "text",
    "id": "SDoOVrl7MUe_"
   },
   "source": [
    "After taking a look at the boxplot matrix, we can conclude that there aren't any values large enough to remove, so removing outliers isn't necessary.  \n",
    "Next, let's check if and how unbalanced the data is, as probably most customers won't leave their phone company."
   ]
  },
  {
   "cell_type": "code",
   "execution_count": 11,
   "metadata": {
    "colab": {
     "base_uri": "https://localhost:8080/",
     "height": 52
    },
    "colab_type": "code",
    "id": "LUgRJG4EBUOQ",
    "outputId": "91f59f4c-ad71-4084-da09-1445564eec0a"
   },
   "outputs": [
    {
     "name": "stdout",
     "output_type": "stream",
     "text": [
      "3434 customers stayed and 566 customers left the company.\n",
      "Churn rate: 0.1415\n"
     ]
    }
   ],
   "source": [
    "no_churn = df[df['churn'] == 0]['churn'].count()\n",
    "churn = df.shape[0] - no_churn \n",
    "print(no_churn, 'customers stayed and', churn, 'customers left the company.')\n",
    "print('Churn rate:', churn/df.shape[0])"
   ]
  },
  {
   "cell_type": "markdown",
   "metadata": {
    "colab_type": "text",
    "id": "Pm3fte5fQJDF"
   },
   "source": [
    "As expected, the data is imbalanced with most customers' churn status at zero meaning no churn. This raises the question of which metric to use for measuring the performance of the model, as the usual accuracy score wouldn't represent the usefulness of the model due to the imbalance: A model that only predicts a churn status of 0, meaning regardless of the input, it'd only predict that customers will stay with the company, would still have a high accuracy score. Thus, the model would predict a large number of false positives (people staying with the company although they'd leave in reality), which is not desireable.  \n",
    "Another metric that's more suited for working with imbalanced data on classifiers is the AUC score. AUC is short for **A**rea **U**nder **C**urve, and represents the area under the Receiver Operating Characteristic Curve (ROC). Instead of measuring performance via accuracy of predictions directly, the ROC uses the True Positive Rate (TPR) plotted against the False Positve Rate (FPR). If a datasets' two categories are perfectly linearly separable, and the model finds the ideal separator, the ROC curve looks like this:  \n",
    "![From https://towardsdatascience.com/understanding-auc-roc-curve-68b2303cc9c5](https://miro.medium.com/max/552/1*HmVIhSKznoW8tFsCLeQjRw.png)  \n",
    "In this case, the AUC score, that is the integral of the ROC on the interval [0;1], is the maximum AUC score possible, so 1. This means that the model can perfectly predict every category and does not predict false negatives or positives.  \n",
    "In most cases though, the data isn't perfectly linearly separable, so the model has to tolerate some amount of False Positives depending on the treshold at which a category as classified as such. Generally, the more the tolerance towards False Positives, the higher the number of True Positives detected by the model, and inversely, in order to decrease the number of False Positives, the model also has to decrease its ability to predict True Positives.  \n",
    "This is a payoff that has to be balanced by choosing the right threshold at which Negatives and Positives are classified, but because the ROC curve considers no individual threshold, the AUC score reports a model's performance independently of the chosen threshold.  \n",
    "Additionally, because the AUC score doesn't only consider the TPR, but also the FPR, it can handle imbalanced data as well as balanced data. In the previously described situation where the model always predicts the same category independently of the input, the AUC score would be low since the FPR would be just as high as the TPR.  \n",
    "Since our dataset is rather imbalanced, we'll use the AUC score to report model performance. "
   ]
  },
  {
   "cell_type": "markdown",
   "metadata": {
    "colab_type": "text",
    "id": "DscvCclhsZP_"
   },
   "source": [
    "# Data Preprocessing\n",
    "Let's start by defining a function that removes both the ID columns noted in X_remove and one of each linearly-dependent columns. We'll use this function later to automatically transform the test dataset in the same way."
   ]
  },
  {
   "cell_type": "code",
   "execution_count": 12,
   "metadata": {
    "colab": {},
    "colab_type": "code",
    "id": "bcAo_dXFR1Yp"
   },
   "outputs": [],
   "source": [
    "def remove_linearly_dependent(data):\n",
    "  #First, drop X_remove ID features\n",
    "  data = data.drop(X_remove, axis=1)\n",
    "\n",
    "  #Define correlation matrix for input\n",
    "  C = data.corr()\n",
    "\n",
    "  #Define boolean mask for columns we want to keep\n",
    "  columns = np.full((C.shape[0],), True, dtype=bool)\n",
    "\n",
    "  #For every distinct entry in correlation matrix\n",
    "  for i in range(C.shape[0]):\n",
    "    for j in range(i+1, C.shape[0]):\n",
    "      #If the correlation coef is above .9 and \n",
    "      if C.iloc[i,j] >= 0.9 and columns[j]:\n",
    "        columns[j] = False\n",
    "  selected_columns = data.columns[columns]\n",
    "  return data[selected_columns]"
   ]
  },
  {
   "cell_type": "code",
   "execution_count": 13,
   "metadata": {
    "colab": {},
    "colab_type": "code",
    "id": "BTfrPGO4gX6T"
   },
   "outputs": [],
   "source": [
    "#Apply function on dataset\n",
    "df_clean = remove_linearly_dependent(df)"
   ]
  },
  {
   "cell_type": "code",
   "execution_count": 14,
   "metadata": {
    "colab": {
     "base_uri": "https://localhost:8080/",
     "height": 141
    },
    "colab_type": "code",
    "id": "uy8ZU0B3ESnY",
    "outputId": "82885e93-e2dd-48a4-823e-bc3ed427cbbb"
   },
   "outputs": [
    {
     "name": "stdout",
     "output_type": "stream",
     "text": [
      "Columns: Index(['state', 'account_length', 'international_plan', 'voice_mail_plan',\n",
      "       'total_day_minutes', 'total_day_calls', 'total_eve_minutes',\n",
      "       'total_eve_calls', 'total_night_minutes', 'total_night_calls',\n",
      "       'total_intl_minutes', 'total_intl_calls',\n",
      "       'number_customer_service_calls', 'churn'],\n",
      "      dtype='object')\n",
      "Dimensions: 4000 rows and 21 columns\n"
     ]
    }
   ],
   "source": [
    "#Check difference\n",
    "print(\"Columns:\", df_clean.columns)\n",
    "print(\"Dimensions:\", df_clean.shape[0], \"rows and\", df.shape[1], \"columns\")"
   ]
  },
  {
   "cell_type": "markdown",
   "metadata": {
    "colab_type": "text",
    "id": "fILwCYkKf53u"
   },
   "source": [
    "Next, we'll inspect  the option for imputing the missing values.\n",
    "As the number of rows with missing values in the total_intl_calls is about 25% of the total number of rows in the dataset, simply removing the rows in question would cause a data loss to big to justify, so another option is needed.  \n",
    "Another way of dealing with missing values is missing value imputation, for which scikit-learn conveniently has packages for: SimpleImputer, which we could use to impute the missing values with means, medians or modes of the corresponding feature, or [IterativeImputer](https://scikit-learn.org/stable/modules/generated/sklearn.impute.IterativeImputer.html), which estimates the missing values of a feature based on the other features, and has been shown to [work well](https://medium.com/analytics-vidhya/using-scikit-learns-iterative-imputer-694c3cca34de), so we'll try using this method of imputing. This will impute all missing values, so we're imputing both total_intl_calls _and_ number_customer_service_calls.  \n",
    "An important condition for using IterativeImputer is to only impute continuous data, since this method of imputing could also fill non-integer numbers, which wouldn't make sense for dichotomous features like voice_mail_plan. Fortunately, in our case, both features that have missing values are continuous, so we can use IterativeImputer without taking further precautions."
   ]
  },
  {
   "cell_type": "code",
   "execution_count": 15,
   "metadata": {
    "colab": {},
    "colab_type": "code",
    "id": "-lnCl46vbCB_"
   },
   "outputs": [],
   "source": [
    "#Import experimental iterative imputer\n",
    "from sklearn.experimental import enable_iterative_imputer\n",
    "from sklearn.impute import IterativeImputer"
   ]
  },
  {
   "cell_type": "code",
   "execution_count": 16,
   "metadata": {
    "colab": {},
    "colab_type": "code",
    "id": "u9tDU4YIlz1R"
   },
   "outputs": [],
   "source": [
    "#Fit and transform X and store in X_final, set max num of imputing iterations to 100\n",
    "imp = IterativeImputer(max_iter=100, random_state=0)\n",
    "df_final = df_clean.copy()\n",
    "df_final[:] = imp.fit_transform(df_final)"
   ]
  },
  {
   "cell_type": "code",
   "execution_count": 17,
   "metadata": {
    "colab": {
     "base_uri": "https://localhost:8080/",
     "height": 283
    },
    "colab_type": "code",
    "id": "WvItaodCl4xS",
    "outputId": "8e530987-4e25-4e32-d35b-53c5be1d2d0a"
   },
   "outputs": [
    {
     "data": {
      "text/plain": [
       "state                            0\n",
       "account_length                   0\n",
       "international_plan               0\n",
       "voice_mail_plan                  0\n",
       "total_day_minutes                0\n",
       "total_day_calls                  0\n",
       "total_eve_minutes                0\n",
       "total_eve_calls                  0\n",
       "total_night_minutes              0\n",
       "total_night_calls                0\n",
       "total_intl_minutes               0\n",
       "total_intl_calls                 0\n",
       "number_customer_service_calls    0\n",
       "churn                            0\n",
       "dtype: int64"
      ]
     },
     "execution_count": 17,
     "metadata": {},
     "output_type": "execute_result"
    }
   ],
   "source": [
    "#Check if it worked properly\n",
    "df_final.isna().sum()"
   ]
  },
  {
   "cell_type": "markdown",
   "metadata": {
    "colab_type": "text",
    "id": "uuRym0t3vtgl"
   },
   "source": [
    "Now that we filled all missing values, we can split the data into train and test using the train_test_function from scikit-learn:"
   ]
  },
  {
   "cell_type": "code",
   "execution_count": 18,
   "metadata": {
    "colab": {},
    "colab_type": "code",
    "id": "eMRoQAn7KXIq"
   },
   "outputs": [],
   "source": [
    "from sklearn.model_selection import train_test_split"
   ]
  },
  {
   "cell_type": "code",
   "execution_count": 19,
   "metadata": {
    "colab": {
     "base_uri": "https://localhost:8080/",
     "height": 123
    },
    "colab_type": "code",
    "id": "o_GkRnPswrz4",
    "outputId": "86c6d9e8-f38a-40a0-dcea-ae592c8c3e6a"
   },
   "outputs": [
    {
     "name": "stdout",
     "output_type": "stream",
     "text": [
      "X shape:\n",
      "\ttrain: (3000, 13) \n",
      "\ttest: (1000, 13) \n",
      "y shape:\n",
      "\ttrain: (3000, 1) \n",
      "\ttest (1000, 1)\n"
     ]
    }
   ],
   "source": [
    "#Split into train and test after dropping cols noted in X_remove\n",
    "X = df_final.drop(['churn'], axis=1)\n",
    "y = df_final[['churn']]\n",
    "X_train, X_test, y_train, y_test = train_test_split(X, y, stratify=y['churn'], random_state=0)\n",
    "\n",
    "#check if it worked correctly\n",
    "print('X shape:\\n\\ttrain:', X_train.shape, '\\n\\ttest:', X_test.shape,\n",
    "      '\\ny shape:\\n\\ttrain:', y_train.shape, '\\n\\ttest', y_test.shape)"
   ]
  },
  {
   "cell_type": "markdown",
   "metadata": {
    "colab_type": "text",
    "id": "JqZI_dAer0XZ"
   },
   "source": [
    "This concludes the Preprocessing section."
   ]
  },
  {
   "cell_type": "markdown",
   "metadata": {
    "colab_type": "text",
    "id": "_YBDoa9eXYBv"
   },
   "source": [
    "# Model Experimentation\n",
    "Now that the data is cleaned and processed, we can start looking for appropriate models. In order to reduce dimensionality for increased computational efficiency, we'll use principal component analysis together  with every model. The models we're going to try include a Decision Tree, a feed-forward neural network, and a K-Nearest neighbour classifier. Hyperparameter tuning will be done via RandomizedSearch as opposed to GridSearch, again for optimized efficiency.  \n",
    "After training every model, the AUC score will provide us with information about the models general accuracy, so we'll choose the one model with the highest AUC score on the test set fraction of the churn_train data. The overall structure of this code is taken from last assignment's notebook with a few minor tweaks to the hyperparameters."
   ]
  },
  {
   "cell_type": "code",
   "execution_count": 20,
   "metadata": {
    "colab": {},
    "colab_type": "code",
    "id": "UbK7nX2S_DTp"
   },
   "outputs": [],
   "source": [
    "#Import chosen models\n",
    "from sklearn.decomposition import PCA \n",
    "from sklearn.tree import DecisionTreeClassifier\n",
    "from sklearn.neural_network import MLPClassifier\n",
    "from sklearn.neighbors import KNeighborsClassifier\n",
    "from sklearn.model_selection import RandomizedSearchCV\n",
    "\n",
    "#Import AUC metric\n",
    "from sklearn import metrics\n",
    "auc_score = metrics.make_scorer(metrics.roc_auc_score)"
   ]
  },
  {
   "cell_type": "code",
   "execution_count": 21,
   "metadata": {
    "colab": {},
    "colab_type": "code",
    "id": "aoyjnQJsTC1o"
   },
   "outputs": [],
   "source": [
    "#Use PCA for dimensionality reduction\n",
    "from sklearn.pipeline import Pipeline\n",
    "model_testing_pipe = Pipeline([\n",
    "    ('dim_reduction', PCA()), \n",
    "    ('classifier', DecisionTreeClassifier(random_state=1))\n",
    "])"
   ]
  },
  {
   "cell_type": "code",
   "execution_count": 22,
   "metadata": {
    "colab": {},
    "colab_type": "code",
    "id": "6A4ydrpBTTeX"
   },
   "outputs": [],
   "source": [
    "# Useful probability distributions from scipy\n",
    "from scipy.stats import reciprocal    # Reciprocal distribution in scipy.stats\n",
    "from scipy.stats import randint       # Discrete distribution in scipy.stats\n",
    "from scipy.stats import uniform"
   ]
  },
  {
   "cell_type": "markdown",
   "metadata": {
    "colab_type": "text",
    "id": "rN4mNNqz0nMz"
   },
   "source": [
    "Having imported everything we need, let's define our grid with all our learning algorithms and their hyperparameters:"
   ]
  },
  {
   "cell_type": "code",
   "execution_count": 82,
   "metadata": {
    "colab": {},
    "colab_type": "code",
    "id": "FC0jAqCwTcOh"
   },
   "outputs": [],
   "source": [
    "#Numbers of components we want to reduce our dataset to via PCA\n",
    "#Numbers of components we want to reduce our dataset to via PCA\n",
    "pca_n_components = [1, 2, 3, 5, 6, 7, 8, 9, 10, 11, 12, 13, 14]\n",
    "\n",
    "grid = [  \n",
    "    {'dim_reduction': [PCA(random_state=1)],\n",
    "     'classifier': [DecisionTreeClassifier(random_state=1)],\n",
    "    'dim_reduction__n_components': pca_n_components, \n",
    "    'classifier__max_depth': [i for i in range(5, 21)],\n",
    "    'classifier__min_samples_leaf': [1, 2, 5, 10, 20]},\n",
    "    \n",
    "    {'dim_reduction': [PCA()],\n",
    "     'classifier': [MLPClassifier(random_state=1, max_iter=9000, )],\n",
    "    'dim_reduction__n_components': pca_n_components, \n",
    "    'classifier__hidden_layer_sizes': [i for i in range(1, 50)],\n",
    "    'classifier__learning_rate_init': reciprocal(1e-5, 9.99e-1),\n",
    "    'classifier__n_iter_no_change': [10, 50, 100, 500]},\n",
    "    \n",
    "    {'dim_reduction': [PCA()],\n",
    "     'classifier': [KNeighborsClassifier()],\n",
    "    'dim_reduction__n_components': pca_n_components, \n",
    "    'classifier__n_neighbors': randint(1, 200), \n",
    "    'classifier__p': [1, 2]\n",
    "    }\n",
    "]"
   ]
  },
  {
   "cell_type": "code",
   "execution_count": 83,
   "metadata": {
    "colab": {
     "base_uri": "https://localhost:8080/",
     "height": 231
    },
    "colab_type": "code",
    "id": "lSAkqSoFTi--",
    "outputId": "76517f8f-2c43-40a2-939a-79f0d255c40a"
   },
   "outputs": [],
   "source": [
    "rs = RandomizedSearchCV(estimator = model_testing_pipe, \n",
    "                        param_distributions=grid, \n",
    "                        n_iter=100, \n",
    "                        scoring=auc_score,\n",
    "                        n_jobs=-1, \n",
    "                        refit=True, cv=5,\n",
    "                        verbose=2,  \n",
    "                        random_state=1)"
   ]
  },
  {
   "cell_type": "code",
   "execution_count": 84,
   "metadata": {
    "colab": {
     "base_uri": "https://localhost:8080/",
     "height": 763
    },
    "colab_type": "code",
    "id": "26gGMB-t2qnK",
    "outputId": "a72ac462-6ac3-4abb-d0a4-202f860d205f"
   },
   "outputs": [
    {
     "name": "stdout",
     "output_type": "stream",
     "text": [
      "Fitting 5 folds for each of 100 candidates, totalling 500 fits\n"
     ]
    },
    {
     "name": "stderr",
     "output_type": "stream",
     "text": [
      "[Parallel(n_jobs=-1)]: Using backend LokyBackend with 4 concurrent workers.\n",
      "[Parallel(n_jobs=-1)]: Done  33 tasks      | elapsed:  1.1min\n",
      "[Parallel(n_jobs=-1)]: Done 154 tasks      | elapsed:  4.9min\n",
      "[Parallel(n_jobs=-1)]: Done 357 tasks      | elapsed: 10.0min\n",
      "[Parallel(n_jobs=-1)]: Done 500 out of 500 | elapsed: 11.8min finished\n"
     ]
    },
    {
     "data": {
      "text/plain": [
       "RandomizedSearchCV(cv=5, error_score=nan,\n",
       "                   estimator=Pipeline(memory=None,\n",
       "                                      steps=[('dim_reduction',\n",
       "                                              PCA(copy=True,\n",
       "                                                  iterated_power='auto',\n",
       "                                                  n_components=None,\n",
       "                                                  random_state=None,\n",
       "                                                  svd_solver='auto', tol=0.0,\n",
       "                                                  whiten=False)),\n",
       "                                             ('classifier',\n",
       "                                              DecisionTreeClassifier(ccp_alpha=0.0,\n",
       "                                                                     class_weight=None,\n",
       "                                                                     criterion='gini',\n",
       "                                                                     max_depth=None,\n",
       "                                                                     max_features=None,\n",
       "                                                                     max_leaf_nodes=None,\n",
       "                                                                     min...\n",
       "                                         'classifier__n_neighbors': <scipy.stats._distn_infrastructure.rv_frozen object at 0x7f4ace6da150>,\n",
       "                                         'classifier__p': [1, 2],\n",
       "                                         'dim_reduction': [PCA(copy=True,\n",
       "                                                               iterated_power='auto',\n",
       "                                                               n_components=None,\n",
       "                                                               random_state=None,\n",
       "                                                               svd_solver='auto',\n",
       "                                                               tol=0.0,\n",
       "                                                               whiten=False)],\n",
       "                                         'dim_reduction__n_components': [1, 2,\n",
       "                                                                         3, 5,\n",
       "                                                                         6, 7,\n",
       "                                                                         8, 9,\n",
       "                                                                         10, 11,\n",
       "                                                                         12, 13,\n",
       "                                                                         14]}],\n",
       "                   pre_dispatch='2*n_jobs', random_state=1, refit=True,\n",
       "                   return_train_score=False, scoring=make_scorer(roc_auc_score),\n",
       "                   verbose=2)"
      ]
     },
     "execution_count": 84,
     "metadata": {},
     "output_type": "execute_result"
    }
   ],
   "source": [
    "rs.fit(X_train, y_train['churn'])"
   ]
  },
  {
   "cell_type": "code",
   "execution_count": 85,
   "metadata": {
    "colab": {
     "base_uri": "https://localhost:8080/",
     "height": 730
    },
    "colab_type": "code",
    "id": "_y3FbAV4UZ9J",
    "outputId": "200011dd-d64f-482a-f525-c833291af0a4"
   },
   "outputs": [
    {
     "data": {
      "text/html": [
       "<div>\n",
       "<style scoped>\n",
       "    .dataframe tbody tr th:only-of-type {\n",
       "        vertical-align: middle;\n",
       "    }\n",
       "\n",
       "    .dataframe tbody tr th {\n",
       "        vertical-align: top;\n",
       "    }\n",
       "\n",
       "    .dataframe thead th {\n",
       "        text-align: right;\n",
       "    }\n",
       "</style>\n",
       "<table border=\"1\" class=\"dataframe\">\n",
       "  <thead>\n",
       "    <tr style=\"text-align: right;\">\n",
       "      <th></th>\n",
       "      <th>mean_fit_time</th>\n",
       "      <th>std_fit_time</th>\n",
       "      <th>mean_score_time</th>\n",
       "      <th>std_score_time</th>\n",
       "      <th>param_classifier</th>\n",
       "      <th>param_classifier__hidden_layer_sizes</th>\n",
       "      <th>param_classifier__learning_rate_init</th>\n",
       "      <th>param_classifier__n_iter_no_change</th>\n",
       "      <th>param_dim_reduction</th>\n",
       "      <th>param_dim_reduction__n_components</th>\n",
       "      <th>...</th>\n",
       "      <th>param_classifier__min_samples_leaf</th>\n",
       "      <th>params</th>\n",
       "      <th>split0_test_score</th>\n",
       "      <th>split1_test_score</th>\n",
       "      <th>split2_test_score</th>\n",
       "      <th>split3_test_score</th>\n",
       "      <th>split4_test_score</th>\n",
       "      <th>mean_test_score</th>\n",
       "      <th>std_test_score</th>\n",
       "      <th>rank_test_score</th>\n",
       "    </tr>\n",
       "  </thead>\n",
       "  <tbody>\n",
       "    <tr>\n",
       "      <th>64</th>\n",
       "      <td>0.050852</td>\n",
       "      <td>0.002246</td>\n",
       "      <td>0.005203</td>\n",
       "      <td>0.001903</td>\n",
       "      <td>DecisionTreeClassifier(ccp_alpha=0.0, class_we...</td>\n",
       "      <td>NaN</td>\n",
       "      <td>NaN</td>\n",
       "      <td>NaN</td>\n",
       "      <td>PCA(copy=True, iterated_power='auto', n_compon...</td>\n",
       "      <td>13</td>\n",
       "      <td>...</td>\n",
       "      <td>5</td>\n",
       "      <td>{'classifier': DecisionTreeClassifier(ccp_alph...</td>\n",
       "      <td>0.862821</td>\n",
       "      <td>0.853969</td>\n",
       "      <td>0.869674</td>\n",
       "      <td>0.886351</td>\n",
       "      <td>0.859909</td>\n",
       "      <td>0.866545</td>\n",
       "      <td>0.011119</td>\n",
       "      <td>1</td>\n",
       "    </tr>\n",
       "    <tr>\n",
       "      <th>75</th>\n",
       "      <td>0.063588</td>\n",
       "      <td>0.004138</td>\n",
       "      <td>0.004335</td>\n",
       "      <td>0.000053</td>\n",
       "      <td>DecisionTreeClassifier(ccp_alpha=0.0, class_we...</td>\n",
       "      <td>NaN</td>\n",
       "      <td>NaN</td>\n",
       "      <td>NaN</td>\n",
       "      <td>PCA(copy=True, iterated_power='auto', n_compon...</td>\n",
       "      <td>13</td>\n",
       "      <td>...</td>\n",
       "      <td>10</td>\n",
       "      <td>{'classifier': DecisionTreeClassifier(ccp_alph...</td>\n",
       "      <td>0.860879</td>\n",
       "      <td>0.850029</td>\n",
       "      <td>0.900057</td>\n",
       "      <td>0.863792</td>\n",
       "      <td>0.848144</td>\n",
       "      <td>0.864580</td>\n",
       "      <td>0.018734</td>\n",
       "      <td>2</td>\n",
       "    </tr>\n",
       "    <tr>\n",
       "      <th>84</th>\n",
       "      <td>0.042888</td>\n",
       "      <td>0.000695</td>\n",
       "      <td>0.003859</td>\n",
       "      <td>0.000089</td>\n",
       "      <td>DecisionTreeClassifier(ccp_alpha=0.0, class_we...</td>\n",
       "      <td>NaN</td>\n",
       "      <td>NaN</td>\n",
       "      <td>NaN</td>\n",
       "      <td>PCA(copy=True, iterated_power='auto', n_compon...</td>\n",
       "      <td>13</td>\n",
       "      <td>...</td>\n",
       "      <td>5</td>\n",
       "      <td>{'classifier': DecisionTreeClassifier(ccp_alph...</td>\n",
       "      <td>0.862821</td>\n",
       "      <td>0.842204</td>\n",
       "      <td>0.869674</td>\n",
       "      <td>0.887322</td>\n",
       "      <td>0.858938</td>\n",
       "      <td>0.864192</td>\n",
       "      <td>0.014683</td>\n",
       "      <td>3</td>\n",
       "    </tr>\n",
       "    <tr>\n",
       "      <th>43</th>\n",
       "      <td>0.049757</td>\n",
       "      <td>0.000811</td>\n",
       "      <td>0.005041</td>\n",
       "      <td>0.000622</td>\n",
       "      <td>DecisionTreeClassifier(ccp_alpha=0.0, class_we...</td>\n",
       "      <td>NaN</td>\n",
       "      <td>NaN</td>\n",
       "      <td>NaN</td>\n",
       "      <td>PCA(copy=True, iterated_power='auto', n_compon...</td>\n",
       "      <td>13</td>\n",
       "      <td>...</td>\n",
       "      <td>1</td>\n",
       "      <td>{'classifier': DecisionTreeClassifier(ccp_alph...</td>\n",
       "      <td>0.859909</td>\n",
       "      <td>0.841234</td>\n",
       "      <td>0.852027</td>\n",
       "      <td>0.848087</td>\n",
       "      <td>0.842319</td>\n",
       "      <td>0.848715</td>\n",
       "      <td>0.006834</td>\n",
       "      <td>4</td>\n",
       "    </tr>\n",
       "    <tr>\n",
       "      <th>10</th>\n",
       "      <td>0.067829</td>\n",
       "      <td>0.003085</td>\n",
       "      <td>0.004216</td>\n",
       "      <td>0.000299</td>\n",
       "      <td>DecisionTreeClassifier(ccp_alpha=0.0, class_we...</td>\n",
       "      <td>NaN</td>\n",
       "      <td>NaN</td>\n",
       "      <td>NaN</td>\n",
       "      <td>PCA(copy=True, iterated_power='auto', n_compon...</td>\n",
       "      <td>13</td>\n",
       "      <td>...</td>\n",
       "      <td>2</td>\n",
       "      <td>{'classifier': DecisionTreeClassifier(ccp_alph...</td>\n",
       "      <td>0.831468</td>\n",
       "      <td>0.827584</td>\n",
       "      <td>0.874586</td>\n",
       "      <td>0.852085</td>\n",
       "      <td>0.817818</td>\n",
       "      <td>0.840708</td>\n",
       "      <td>0.020291</td>\n",
       "      <td>5</td>\n",
       "    </tr>\n",
       "    <tr>\n",
       "      <th>96</th>\n",
       "      <td>6.221193</td>\n",
       "      <td>0.808616</td>\n",
       "      <td>0.003987</td>\n",
       "      <td>0.000670</td>\n",
       "      <td>MLPClassifier(activation='relu', alpha=0.0001,...</td>\n",
       "      <td>42</td>\n",
       "      <td>0.0264937</td>\n",
       "      <td>100</td>\n",
       "      <td>PCA(copy=True, iterated_power='auto', n_compon...</td>\n",
       "      <td>13</td>\n",
       "      <td>...</td>\n",
       "      <td>NaN</td>\n",
       "      <td>{'classifier': MLPClassifier(activation='relu'...</td>\n",
       "      <td>0.807025</td>\n",
       "      <td>0.805197</td>\n",
       "      <td>0.777784</td>\n",
       "      <td>0.779897</td>\n",
       "      <td>0.794403</td>\n",
       "      <td>0.792861</td>\n",
       "      <td>0.012252</td>\n",
       "      <td>6</td>\n",
       "    </tr>\n",
       "    <tr>\n",
       "      <th>72</th>\n",
       "      <td>7.855229</td>\n",
       "      <td>1.996830</td>\n",
       "      <td>0.004152</td>\n",
       "      <td>0.000062</td>\n",
       "      <td>MLPClassifier(activation='relu', alpha=0.0001,...</td>\n",
       "      <td>44</td>\n",
       "      <td>0.0292163</td>\n",
       "      <td>100</td>\n",
       "      <td>PCA(copy=True, iterated_power='auto', n_compon...</td>\n",
       "      <td>13</td>\n",
       "      <td>...</td>\n",
       "      <td>NaN</td>\n",
       "      <td>{'classifier': MLPClassifier(activation='relu'...</td>\n",
       "      <td>0.770702</td>\n",
       "      <td>0.815820</td>\n",
       "      <td>0.815991</td>\n",
       "      <td>0.775957</td>\n",
       "      <td>0.762993</td>\n",
       "      <td>0.788292</td>\n",
       "      <td>0.022920</td>\n",
       "      <td>7</td>\n",
       "    </tr>\n",
       "    <tr>\n",
       "      <th>93</th>\n",
       "      <td>0.058308</td>\n",
       "      <td>0.005459</td>\n",
       "      <td>0.003887</td>\n",
       "      <td>0.000144</td>\n",
       "      <td>DecisionTreeClassifier(ccp_alpha=0.0, class_we...</td>\n",
       "      <td>NaN</td>\n",
       "      <td>NaN</td>\n",
       "      <td>NaN</td>\n",
       "      <td>PCA(copy=True, iterated_power='auto', n_compon...</td>\n",
       "      <td>12</td>\n",
       "      <td>...</td>\n",
       "      <td>10</td>\n",
       "      <td>{'classifier': DecisionTreeClassifier(ccp_alph...</td>\n",
       "      <td>0.746202</td>\n",
       "      <td>0.783438</td>\n",
       "      <td>0.768761</td>\n",
       "      <td>0.794289</td>\n",
       "      <td>0.770817</td>\n",
       "      <td>0.772701</td>\n",
       "      <td>0.016141</td>\n",
       "      <td>8</td>\n",
       "    </tr>\n",
       "    <tr>\n",
       "      <th>32</th>\n",
       "      <td>0.053647</td>\n",
       "      <td>0.006105</td>\n",
       "      <td>0.004169</td>\n",
       "      <td>0.000350</td>\n",
       "      <td>DecisionTreeClassifier(ccp_alpha=0.0, class_we...</td>\n",
       "      <td>NaN</td>\n",
       "      <td>NaN</td>\n",
       "      <td>NaN</td>\n",
       "      <td>PCA(copy=True, iterated_power='auto', n_compon...</td>\n",
       "      <td>12</td>\n",
       "      <td>...</td>\n",
       "      <td>2</td>\n",
       "      <td>{'classifier': DecisionTreeClassifier(ccp_alph...</td>\n",
       "      <td>0.718789</td>\n",
       "      <td>0.755111</td>\n",
       "      <td>0.791319</td>\n",
       "      <td>0.781496</td>\n",
       "      <td>0.740434</td>\n",
       "      <td>0.757430</td>\n",
       "      <td>0.026514</td>\n",
       "      <td>9</td>\n",
       "    </tr>\n",
       "    <tr>\n",
       "      <th>48</th>\n",
       "      <td>0.046202</td>\n",
       "      <td>0.002494</td>\n",
       "      <td>0.004350</td>\n",
       "      <td>0.000812</td>\n",
       "      <td>DecisionTreeClassifier(ccp_alpha=0.0, class_we...</td>\n",
       "      <td>NaN</td>\n",
       "      <td>NaN</td>\n",
       "      <td>NaN</td>\n",
       "      <td>PCA(copy=True, iterated_power='auto', n_compon...</td>\n",
       "      <td>11</td>\n",
       "      <td>...</td>\n",
       "      <td>5</td>\n",
       "      <td>{'classifier': DecisionTreeClassifier(ccp_alph...</td>\n",
       "      <td>0.698172</td>\n",
       "      <td>0.737407</td>\n",
       "      <td>0.723758</td>\n",
       "      <td>0.747287</td>\n",
       "      <td>0.682638</td>\n",
       "      <td>0.717853</td>\n",
       "      <td>0.024129</td>\n",
       "      <td>10</td>\n",
       "    </tr>\n",
       "  </tbody>\n",
       "</table>\n",
       "<p>10 rows × 23 columns</p>\n",
       "</div>"
      ],
      "text/plain": [
       "    mean_fit_time  std_fit_time  mean_score_time  std_score_time  \\\n",
       "64       0.050852      0.002246         0.005203        0.001903   \n",
       "75       0.063588      0.004138         0.004335        0.000053   \n",
       "84       0.042888      0.000695         0.003859        0.000089   \n",
       "43       0.049757      0.000811         0.005041        0.000622   \n",
       "10       0.067829      0.003085         0.004216        0.000299   \n",
       "96       6.221193      0.808616         0.003987        0.000670   \n",
       "72       7.855229      1.996830         0.004152        0.000062   \n",
       "93       0.058308      0.005459         0.003887        0.000144   \n",
       "32       0.053647      0.006105         0.004169        0.000350   \n",
       "48       0.046202      0.002494         0.004350        0.000812   \n",
       "\n",
       "                                     param_classifier  \\\n",
       "64  DecisionTreeClassifier(ccp_alpha=0.0, class_we...   \n",
       "75  DecisionTreeClassifier(ccp_alpha=0.0, class_we...   \n",
       "84  DecisionTreeClassifier(ccp_alpha=0.0, class_we...   \n",
       "43  DecisionTreeClassifier(ccp_alpha=0.0, class_we...   \n",
       "10  DecisionTreeClassifier(ccp_alpha=0.0, class_we...   \n",
       "96  MLPClassifier(activation='relu', alpha=0.0001,...   \n",
       "72  MLPClassifier(activation='relu', alpha=0.0001,...   \n",
       "93  DecisionTreeClassifier(ccp_alpha=0.0, class_we...   \n",
       "32  DecisionTreeClassifier(ccp_alpha=0.0, class_we...   \n",
       "48  DecisionTreeClassifier(ccp_alpha=0.0, class_we...   \n",
       "\n",
       "   param_classifier__hidden_layer_sizes param_classifier__learning_rate_init  \\\n",
       "64                                  NaN                                  NaN   \n",
       "75                                  NaN                                  NaN   \n",
       "84                                  NaN                                  NaN   \n",
       "43                                  NaN                                  NaN   \n",
       "10                                  NaN                                  NaN   \n",
       "96                                   42                            0.0264937   \n",
       "72                                   44                            0.0292163   \n",
       "93                                  NaN                                  NaN   \n",
       "32                                  NaN                                  NaN   \n",
       "48                                  NaN                                  NaN   \n",
       "\n",
       "   param_classifier__n_iter_no_change  \\\n",
       "64                                NaN   \n",
       "75                                NaN   \n",
       "84                                NaN   \n",
       "43                                NaN   \n",
       "10                                NaN   \n",
       "96                                100   \n",
       "72                                100   \n",
       "93                                NaN   \n",
       "32                                NaN   \n",
       "48                                NaN   \n",
       "\n",
       "                                  param_dim_reduction  \\\n",
       "64  PCA(copy=True, iterated_power='auto', n_compon...   \n",
       "75  PCA(copy=True, iterated_power='auto', n_compon...   \n",
       "84  PCA(copy=True, iterated_power='auto', n_compon...   \n",
       "43  PCA(copy=True, iterated_power='auto', n_compon...   \n",
       "10  PCA(copy=True, iterated_power='auto', n_compon...   \n",
       "96  PCA(copy=True, iterated_power='auto', n_compon...   \n",
       "72  PCA(copy=True, iterated_power='auto', n_compon...   \n",
       "93  PCA(copy=True, iterated_power='auto', n_compon...   \n",
       "32  PCA(copy=True, iterated_power='auto', n_compon...   \n",
       "48  PCA(copy=True, iterated_power='auto', n_compon...   \n",
       "\n",
       "   param_dim_reduction__n_components  ... param_classifier__min_samples_leaf  \\\n",
       "64                                13  ...                                  5   \n",
       "75                                13  ...                                 10   \n",
       "84                                13  ...                                  5   \n",
       "43                                13  ...                                  1   \n",
       "10                                13  ...                                  2   \n",
       "96                                13  ...                                NaN   \n",
       "72                                13  ...                                NaN   \n",
       "93                                12  ...                                 10   \n",
       "32                                12  ...                                  2   \n",
       "48                                11  ...                                  5   \n",
       "\n",
       "                                               params split0_test_score  \\\n",
       "64  {'classifier': DecisionTreeClassifier(ccp_alph...          0.862821   \n",
       "75  {'classifier': DecisionTreeClassifier(ccp_alph...          0.860879   \n",
       "84  {'classifier': DecisionTreeClassifier(ccp_alph...          0.862821   \n",
       "43  {'classifier': DecisionTreeClassifier(ccp_alph...          0.859909   \n",
       "10  {'classifier': DecisionTreeClassifier(ccp_alph...          0.831468   \n",
       "96  {'classifier': MLPClassifier(activation='relu'...          0.807025   \n",
       "72  {'classifier': MLPClassifier(activation='relu'...          0.770702   \n",
       "93  {'classifier': DecisionTreeClassifier(ccp_alph...          0.746202   \n",
       "32  {'classifier': DecisionTreeClassifier(ccp_alph...          0.718789   \n",
       "48  {'classifier': DecisionTreeClassifier(ccp_alph...          0.698172   \n",
       "\n",
       "   split1_test_score split2_test_score  split3_test_score  split4_test_score  \\\n",
       "64          0.853969          0.869674           0.886351           0.859909   \n",
       "75          0.850029          0.900057           0.863792           0.848144   \n",
       "84          0.842204          0.869674           0.887322           0.858938   \n",
       "43          0.841234          0.852027           0.848087           0.842319   \n",
       "10          0.827584          0.874586           0.852085           0.817818   \n",
       "96          0.805197          0.777784           0.779897           0.794403   \n",
       "72          0.815820          0.815991           0.775957           0.762993   \n",
       "93          0.783438          0.768761           0.794289           0.770817   \n",
       "32          0.755111          0.791319           0.781496           0.740434   \n",
       "48          0.737407          0.723758           0.747287           0.682638   \n",
       "\n",
       "    mean_test_score  std_test_score  rank_test_score  \n",
       "64         0.866545        0.011119                1  \n",
       "75         0.864580        0.018734                2  \n",
       "84         0.864192        0.014683                3  \n",
       "43         0.848715        0.006834                4  \n",
       "10         0.840708        0.020291                5  \n",
       "96         0.792861        0.012252                6  \n",
       "72         0.788292        0.022920                7  \n",
       "93         0.772701        0.016141                8  \n",
       "32         0.757430        0.026514                9  \n",
       "48         0.717853        0.024129               10  \n",
       "\n",
       "[10 rows x 23 columns]"
      ]
     },
     "execution_count": 85,
     "metadata": {},
     "output_type": "execute_result"
    }
   ],
   "source": [
    "#Show best 10 configurations\n",
    "results = pd.DataFrame(rs.cv_results_).sort_values([\"mean_test_score\"],  ascending=False)\n",
    "results[:10]"
   ]
  },
  {
   "cell_type": "code",
   "execution_count": 105,
   "metadata": {
    "colab": {
     "base_uri": "https://localhost:8080/",
     "height": 34
    },
    "colab_type": "code",
    "id": "ab0XfAhKXqfT",
    "outputId": "ee0ba596-521e-44ef-e0d2-13ff32571df2"
   },
   "outputs": [
    {
     "name": "stdout",
     "output_type": "stream",
     "text": [
      "Best score 0.866544831524843\n"
     ]
    }
   ],
   "source": [
    "print(\"Best score\", rs.best_score_)"
   ]
  },
  {
   "cell_type": "markdown",
   "metadata": {},
   "source": [
    "In the dataframe above, we can take a look at the best ten models along with their hyperparameters computed by RandomizedGridSearch. Most of them seem to be DecisionTrees, with some Neural Nets in there. To be sure that we're selecting the right model, let's also perform a 5-fold crossvalidation on the best configuration of each model using the predict_proba metric instead of the AUC score.  \n",
    "First, we'll have to define pipelines for each model using the best configuration found by RandomizedGridSearch:"
   ]
  },
  {
   "cell_type": "code",
   "execution_count": 106,
   "metadata": {
    "colab": {
     "base_uri": "https://localhost:8080/",
     "height": 158
    },
    "colab_type": "code",
    "id": "jvcXf_sne9hn",
    "outputId": "61187cbf-cc58-41cf-fc3d-bcdc19228bb2"
   },
   "outputs": [
    {
     "data": {
      "text/plain": [
       "{'classifier': KNeighborsClassifier(algorithm='auto', leaf_size=30, metric='minkowski',\n",
       "                      metric_params=None, n_jobs=None, n_neighbors=5, p=2,\n",
       "                      weights='uniform'),\n",
       " 'classifier__n_neighbors': 7,\n",
       " 'classifier__p': 1,\n",
       " 'dim_reduction': PCA(copy=True, iterated_power='auto', n_components=None, random_state=None,\n",
       "     svd_solver='auto', tol=0.0, whiten=False),\n",
       " 'dim_reduction__n_components': 6}"
      ]
     },
     "execution_count": 106,
     "metadata": {},
     "output_type": "execute_result"
    }
   ],
   "source": [
    "#K-NEAREST\n",
    "is_k_neighbors = [str(s).startswith('KNeighborsClassifier') for s in results['param_classifier']]\n",
    "knn_params = results[is_k_neighbors].iloc[0]['params'] #get the params\n",
    "knn_params"
   ]
  },
  {
   "cell_type": "code",
   "execution_count": 107,
   "metadata": {
    "colab": {},
    "colab_type": "code",
    "id": "nLBFxZPqe90I"
   },
   "outputs": [],
   "source": [
    "#Re-create the pipe\n",
    "pipe_best_knn = Pipeline([\n",
    "  ('dim_reduction', PCA(n_components=knn_params['dim_reduction__n_components'])), \n",
    "  ('classifier', KNeighborsClassifier(n_neighbors=knn_params['classifier__n_neighbors'], \n",
    "  p=knn_params['classifier__p']))\n",
    "])"
   ]
  },
  {
   "cell_type": "code",
   "execution_count": 108,
   "metadata": {
    "colab": {
     "base_uri": "https://localhost:8080/",
     "height": 212
    },
    "colab_type": "code",
    "id": "q-vlHMTNe98z",
    "outputId": "6418fa24-36e2-463f-e998-d19aa59eaadb"
   },
   "outputs": [
    {
     "data": {
      "text/plain": [
       "{'classifier': DecisionTreeClassifier(ccp_alpha=0.0, class_weight=None, criterion='gini',\n",
       "                        max_depth=8, max_features=None, max_leaf_nodes=None,\n",
       "                        min_impurity_decrease=0.0, min_impurity_split=None,\n",
       "                        min_samples_leaf=5, min_samples_split=2,\n",
       "                        min_weight_fraction_leaf=0.0, presort='deprecated',\n",
       "                        random_state=1, splitter='best'),\n",
       " 'classifier__max_depth': 8,\n",
       " 'classifier__min_samples_leaf': 5,\n",
       " 'dim_reduction': PCA(copy=True, iterated_power='auto', n_components=13, random_state=1,\n",
       "     svd_solver='auto', tol=0.0, whiten=False),\n",
       " 'dim_reduction__n_components': 13}"
      ]
     },
     "execution_count": 108,
     "metadata": {},
     "output_type": "execute_result"
    }
   ],
   "source": [
    "#TREE\n",
    "is_tree = [str(s).startswith('DecisionTreeClassifier') for s in results['param_classifier']] #find decision tree out of the results\n",
    "tree_params = results[is_tree].iloc[0]['params']\n",
    "tree_params"
   ]
  },
  {
   "cell_type": "code",
   "execution_count": 117,
   "metadata": {
    "colab": {},
    "colab_type": "code",
    "id": "Vtao4DUDfuli"
   },
   "outputs": [
    {
     "data": {
      "text/plain": [
       "Pipeline(memory=None,\n",
       "         steps=[('dim_reduction',\n",
       "                 PCA(copy=True, iterated_power='auto', n_components=13,\n",
       "                     random_state=None, svd_solver='auto', tol=0.0,\n",
       "                     whiten=False)),\n",
       "                ('classifier',\n",
       "                 DecisionTreeClassifier(ccp_alpha=0.0, class_weight=None,\n",
       "                                        criterion='gini', max_depth=8,\n",
       "                                        max_features=None, max_leaf_nodes=None,\n",
       "                                        min_impurity_decrease=0.0,\n",
       "                                        min_impurity_split=None,\n",
       "                                        min_samples_leaf=5, min_samples_split=2,\n",
       "                                        min_weight_fraction_leaf=0.0,\n",
       "                                        presort='deprecated', random_state=None,\n",
       "                                        splitter='best'))],\n",
       "         verbose=False)"
      ]
     },
     "execution_count": 117,
     "metadata": {},
     "output_type": "execute_result"
    }
   ],
   "source": [
    "#Re-create the pipe\n",
    "pipe_best_tree = Pipeline([\n",
    "  ('dim_reduction', PCA(n_components=tree_params['dim_reduction__n_components'])), \n",
    "  ('classifier', DecisionTreeClassifier(max_depth=tree_params['classifier__max_depth'], \n",
    "  min_samples_leaf=tree_params['classifier__min_samples_leaf']))\n",
    "])\n",
    "pipe_best_tree"
   ]
  },
  {
   "cell_type": "code",
   "execution_count": 121,
   "metadata": {
    "colab": {
     "base_uri": "https://localhost:8080/",
     "height": 301
    },
    "colab_type": "code",
    "id": "XZdcj5h3futa",
    "outputId": "7b2897e7-54bd-48c0-f129-c2bacecdc024"
   },
   "outputs": [
    {
     "data": {
      "text/plain": [
       "{'classifier': MLPClassifier(activation='relu', alpha=0.0001, batch_size='auto', beta_1=0.9,\n",
       "               beta_2=0.999, early_stopping=False, epsilon=1e-08,\n",
       "               hidden_layer_sizes=(100,), learning_rate='constant',\n",
       "               learning_rate_init=0.001, max_fun=15000, max_iter=9000,\n",
       "               momentum=0.9, n_iter_no_change=10, nesterovs_momentum=True,\n",
       "               power_t=0.5, random_state=1, shuffle=True, solver='adam',\n",
       "               tol=0.0001, validation_fraction=0.1, verbose=False,\n",
       "               warm_start=False),\n",
       " 'classifier__hidden_layer_sizes': 42,\n",
       " 'classifier__learning_rate_init': 0.0264936642037041,\n",
       " 'classifier__n_iter_no_change': 100,\n",
       " 'dim_reduction': PCA(copy=True, iterated_power='auto', n_components=None, random_state=None,\n",
       "     svd_solver='auto', tol=0.0, whiten=False),\n",
       " 'dim_reduction__n_components': 13}"
      ]
     },
     "execution_count": 121,
     "metadata": {},
     "output_type": "execute_result"
    }
   ],
   "source": [
    "#FNN\n",
    "is_fnn = [str(s).startswith('MLPClassifier') for s in results['param_classifier']] #find decision tree out of the results\n",
    "fnn_params = results[is_fnn].iloc[0]['params']\n",
    "fnn_params"
   ]
  },
  {
   "cell_type": "code",
   "execution_count": 123,
   "metadata": {},
   "outputs": [
    {
     "data": {
      "text/plain": [
       "Pipeline(memory=None,\n",
       "         steps=[('dim_reduction',\n",
       "                 PCA(copy=True, iterated_power='auto', n_components=13,\n",
       "                     random_state=None, svd_solver='auto', tol=0.0,\n",
       "                     whiten=False)),\n",
       "                ('classifier',\n",
       "                 MLPClassifier(activation='relu', alpha=0.0001,\n",
       "                               batch_size='auto', beta_1=0.9, beta_2=0.999,\n",
       "                               early_stopping=False, epsilon=1e-08,\n",
       "                               hidden_layer_sizes=42, learning_rate='constant',\n",
       "                               learning_rate_init=0.0264936642037041,\n",
       "                               max_fun=15000, max_iter=200, momentum=0.9,\n",
       "                               n_iter_no_change=100, nesterovs_momentum=True,\n",
       "                               power_t=0.5, random_state=None, shuffle=True,\n",
       "                               solver='adam', tol=0.0001,\n",
       "                               validation_fraction=0.1, verbose=False,\n",
       "                               warm_start=False))],\n",
       "         verbose=False)"
      ]
     },
     "execution_count": 123,
     "metadata": {},
     "output_type": "execute_result"
    }
   ],
   "source": [
    "#Re-create the pipe\n",
    "pipe_best_fnn = Pipeline([\n",
    "  ('dim_reduction', PCA(n_components=fnn_params['dim_reduction__n_components'])), \n",
    "  ('classifier', MLPClassifier(hidden_layer_sizes=fnn_params['classifier__hidden_layer_sizes'],\n",
    "                              learning_rate_init=fnn_params['classifier__learning_rate_init'],\n",
    "                              n_iter_no_change=fnn_params['classifier__n_iter_no_change']))\n",
    "])\n",
    "\n",
    "pipe_best_fnn"
   ]
  },
  {
   "cell_type": "markdown",
   "metadata": {
    "colab_type": "text",
    "id": "HOIZdssAgNLQ"
   },
   "source": [
    "Now we've got the best configurations for every model, so let's find out which model performs best after cross-validation:"
   ]
  },
  {
   "cell_type": "code",
   "execution_count": 124,
   "metadata": {
    "colab": {},
    "colab_type": "code",
    "id": "JK622jKRfuyT"
   },
   "outputs": [],
   "source": [
    "from sklearn.model_selection import cross_val_predict"
   ]
  },
  {
   "cell_type": "code",
   "execution_count": 125,
   "metadata": {
    "colab": {},
    "colab_type": "code",
    "id": "UUVD8aFffu1X"
   },
   "outputs": [
    {
     "name": "stderr",
     "output_type": "stream",
     "text": [
      "/opt/conda/lib/python3.7/site-packages/sklearn/neural_network/_multilayer_perceptron.py:571: ConvergenceWarning: Stochastic Optimizer: Maximum iterations (200) reached and the optimization hasn't converged yet.\n",
      "  % self.max_iter, ConvergenceWarning)\n",
      "/opt/conda/lib/python3.7/site-packages/sklearn/neural_network/_multilayer_perceptron.py:571: ConvergenceWarning: Stochastic Optimizer: Maximum iterations (200) reached and the optimization hasn't converged yet.\n",
      "  % self.max_iter, ConvergenceWarning)\n",
      "/opt/conda/lib/python3.7/site-packages/sklearn/neural_network/_multilayer_perceptron.py:571: ConvergenceWarning: Stochastic Optimizer: Maximum iterations (200) reached and the optimization hasn't converged yet.\n",
      "  % self.max_iter, ConvergenceWarning)\n",
      "/opt/conda/lib/python3.7/site-packages/sklearn/neural_network/_multilayer_perceptron.py:571: ConvergenceWarning: Stochastic Optimizer: Maximum iterations (200) reached and the optimization hasn't converged yet.\n",
      "  % self.max_iter, ConvergenceWarning)\n",
      "/opt/conda/lib/python3.7/site-packages/sklearn/neural_network/_multilayer_perceptron.py:571: ConvergenceWarning: Stochastic Optimizer: Maximum iterations (200) reached and the optimization hasn't converged yet.\n",
      "  % self.max_iter, ConvergenceWarning)\n"
     ]
    }
   ],
   "source": [
    "cv_predictions_fnn = cross_val_predict(pipe_best_fnn, \n",
    "                                       X_train, y_train['churn'], \n",
    "                                       cv=5, method=\"predict_proba\")\n",
    "\n",
    "cv_predictions_knn = cross_val_predict(pipe_best_knn, \n",
    "                                       X_train, y_train['churn'], \n",
    "                                       cv=5, method=\"predict_proba\")\n",
    "\n",
    "cv_predictions_tree = cross_val_predict(pipe_best_tree, \n",
    "                                       X_train, y_train['churn'], \n",
    "                                       cv=5, method=\"predict_proba\")"
   ]
  },
  {
   "cell_type": "markdown",
   "metadata": {},
   "source": [
    "Next, we'll plot the ROC curves for each model:"
   ]
  },
  {
   "cell_type": "code",
   "execution_count": 126,
   "metadata": {
    "colab": {
     "base_uri": "https://localhost:8080/",
     "height": 566
    },
    "colab_type": "code",
    "id": "sYFQgk0NhSje",
    "outputId": "aaba3db8-31e0-4f52-a4d7-e57a525d97fe"
   },
   "outputs": [
    {
     "data": {
      "image/png": "[encoded data removed]",
      "text/plain": [
       "<Figure size 1152x648 with 1 Axes>"
      ]
     },
     "metadata": {
      "needs_background": "light"
     },
     "output_type": "display_data"
    }
   ],
   "source": [
    "pred_probs_fnn = cv_predictions_fnn[:,1]\n",
    "pred_probs_knn = cv_predictions_knn[:,1]\n",
    "pred_probs_tree = cv_predictions_tree[:,1]\n",
    "\n",
    "fpr_fnn, tpr_fnn, thresholds_fnn = metrics.roc_curve(y_train, pred_probs_fnn)\n",
    "fpr_knn, tpr_knn, thresholds_knn = metrics.roc_curve(y_train, pred_probs_knn)\n",
    "fpr_tree, tpr_tree, thresholds_tree = metrics.roc_curve(y_train, pred_probs_tree)\n",
    "\n",
    "def plot_roc(fpr, tpr, label=None, col='b'):\n",
    "    plt.plot(fpr, tpr, col, linewidth=2, label=label)\n",
    "    plt.plot([0, 1], [0, 1], 'k--')\n",
    "    plt.axis([0, 1, 0, 1])\n",
    "    plt.xlabel('False Positive Rate (1-Specificity)')\n",
    "    plt.ylabel('True Positive Rate (Sensitivity)')\n",
    "    plt.xlim((-0.02,1.02))\n",
    "    plt.ylim((-0.02,1.02))\n",
    "    plt.title('ROC Curve')\n",
    "\n",
    "plt.figure(figsize=(16,9))\n",
    "plot_roc(fpr_fnn, tpr_fnn, label='FNN', col='b')\n",
    "plot_roc(fpr_knn, tpr_knn, label='KNN', col='g')\n",
    "plot_roc(fpr_tree, tpr_tree, label='Tree', col='y')\n",
    "plt.legend()\n",
    "plt.show()"
   ]
  },
  {
   "cell_type": "code",
   "execution_count": 127,
   "metadata": {
    "colab": {
     "base_uri": "https://localhost:8080/",
     "height": 70
    },
    "colab_type": "code",
    "id": "QRD7s8sqh7f6",
    "outputId": "09e5e8a8-6a85-4892-f8d6-6e8efb28ce28"
   },
   "outputs": [
    {
     "name": "stdout",
     "output_type": "stream",
     "text": [
      "CV AUC with best Neural Network: 0.8367131924614507\n",
      "CV AUC with best KNN: 0.6871145631067961\n",
      "CV AUC with best Decision Tree: 0.8819348943460878\n"
     ]
    }
   ],
   "source": [
    "print(\"CV AUC with best Neural Network: {0}\".format(metrics.roc_auc_score(y_train, pred_probs_fnn)))\n",
    "print(\"CV AUC with best KNN: {0}\".format(metrics.roc_auc_score(y_train, pred_probs_knn)))\n",
    "print(\"CV AUC with best Decision Tree: {0}\".format(metrics.roc_auc_score(y_train, pred_probs_tree)))"
   ]
  },
  {
   "cell_type": "markdown",
   "metadata": {},
   "source": [
    "The decision tree and neural network seem to perform almost exactly the same! Let's try both on the test data and find out which performs better. "
   ]
  },
  {
   "cell_type": "code",
   "execution_count": 128,
   "metadata": {
    "colab": {
     "base_uri": "https://localhost:8080/",
     "height": 566
    },
    "colab_type": "code",
    "id": "jTArYANXiPPv",
    "outputId": "8ec0c400-e9fd-464d-b998-f8eb33004206"
   },
   "outputs": [
    {
     "ename": "NotFittedError",
     "evalue": "This PCA instance is not fitted yet. Call 'fit' with appropriate arguments before using this estimator.",
     "output_type": "error",
     "traceback": [
      "\u001b[0;31m---------------------------------------------------------------------------\u001b[0m",
      "\u001b[0;31mNotFittedError\u001b[0m                            Traceback (most recent call last)",
      "\u001b[0;32m<ipython-input-128-48c632a75934>\u001b[0m in \u001b[0;36m<module>\u001b[0;34m\u001b[0m\n\u001b[0;32m----> 1\u001b[0;31m \u001b[0mtest_pred_probs_fnn\u001b[0m \u001b[0;34m=\u001b[0m \u001b[0mpipe_best_fnn\u001b[0m\u001b[0;34m.\u001b[0m\u001b[0mpredict_proba\u001b[0m\u001b[0;34m(\u001b[0m\u001b[0mX_test\u001b[0m\u001b[0;34m)\u001b[0m\u001b[0;34m[\u001b[0m\u001b[0;34m:\u001b[0m\u001b[0;34m,\u001b[0m\u001b[0;36m1\u001b[0m\u001b[0;34m]\u001b[0m\u001b[0;34m\u001b[0m\u001b[0;34m\u001b[0m\u001b[0m\n\u001b[0m\u001b[1;32m      2\u001b[0m \u001b[0mtest_fpr_fnn\u001b[0m\u001b[0;34m,\u001b[0m \u001b[0mtest_tpr_fnn\u001b[0m\u001b[0;34m,\u001b[0m \u001b[0mtest_thresholds_fnn\u001b[0m \u001b[0;34m=\u001b[0m \u001b[0mmetrics\u001b[0m\u001b[0;34m.\u001b[0m\u001b[0mroc_curve\u001b[0m\u001b[0;34m(\u001b[0m\u001b[0my_test\u001b[0m\u001b[0;34m,\u001b[0m \u001b[0mtest_pred_probs_fnn\u001b[0m\u001b[0;34m)\u001b[0m \u001b[0;31m#Curve on testing data\u001b[0m\u001b[0;34m\u001b[0m\u001b[0;34m\u001b[0m\u001b[0m\n\u001b[1;32m      3\u001b[0m \u001b[0;34m\u001b[0m\u001b[0m\n\u001b[1;32m      4\u001b[0m \u001b[0mtest_pred_probs_tree\u001b[0m \u001b[0;34m=\u001b[0m \u001b[0mpipe_best_tree\u001b[0m\u001b[0;34m.\u001b[0m\u001b[0mpredict_proba\u001b[0m\u001b[0;34m(\u001b[0m\u001b[0mX_test\u001b[0m\u001b[0;34m)\u001b[0m\u001b[0;34m[\u001b[0m\u001b[0;34m:\u001b[0m\u001b[0;34m,\u001b[0m\u001b[0;36m1\u001b[0m\u001b[0;34m]\u001b[0m\u001b[0;34m\u001b[0m\u001b[0;34m\u001b[0m\u001b[0m\n\u001b[1;32m      5\u001b[0m \u001b[0mtest_fpr_tree\u001b[0m\u001b[0;34m,\u001b[0m \u001b[0mtest_tpr_tree\u001b[0m\u001b[0;34m,\u001b[0m \u001b[0mtest_thresholds_tree\u001b[0m \u001b[0;34m=\u001b[0m \u001b[0mmetrics\u001b[0m\u001b[0;34m.\u001b[0m\u001b[0mroc_curve\u001b[0m\u001b[0;34m(\u001b[0m\u001b[0my_test\u001b[0m\u001b[0;34m,\u001b[0m \u001b[0mtest_pred_probs_tree\u001b[0m\u001b[0;34m)\u001b[0m \u001b[0;31m#Curve on testing data\u001b[0m\u001b[0;34m\u001b[0m\u001b[0;34m\u001b[0m\u001b[0m\n",
      "\u001b[0;32m/opt/conda/lib/python3.7/site-packages/sklearn/utils/metaestimators.py\u001b[0m in \u001b[0;36m<lambda>\u001b[0;34m(*args, **kwargs)\u001b[0m\n\u001b[1;32m    114\u001b[0m \u001b[0;34m\u001b[0m\u001b[0m\n\u001b[1;32m    115\u001b[0m         \u001b[0;31m# lambda, but not partial, allows help() to work with update_wrapper\u001b[0m\u001b[0;34m\u001b[0m\u001b[0;34m\u001b[0m\u001b[0;34m\u001b[0m\u001b[0m\n\u001b[0;32m--> 116\u001b[0;31m         \u001b[0mout\u001b[0m \u001b[0;34m=\u001b[0m \u001b[0;32mlambda\u001b[0m \u001b[0;34m*\u001b[0m\u001b[0margs\u001b[0m\u001b[0;34m,\u001b[0m \u001b[0;34m**\u001b[0m\u001b[0mkwargs\u001b[0m\u001b[0;34m:\u001b[0m \u001b[0mself\u001b[0m\u001b[0;34m.\u001b[0m\u001b[0mfn\u001b[0m\u001b[0;34m(\u001b[0m\u001b[0mobj\u001b[0m\u001b[0;34m,\u001b[0m \u001b[0;34m*\u001b[0m\u001b[0margs\u001b[0m\u001b[0;34m,\u001b[0m \u001b[0;34m**\u001b[0m\u001b[0mkwargs\u001b[0m\u001b[0;34m)\u001b[0m\u001b[0;34m\u001b[0m\u001b[0;34m\u001b[0m\u001b[0m\n\u001b[0m\u001b[1;32m    117\u001b[0m         \u001b[0;31m# update the docstring of the returned function\u001b[0m\u001b[0;34m\u001b[0m\u001b[0;34m\u001b[0m\u001b[0;34m\u001b[0m\u001b[0m\n\u001b[1;32m    118\u001b[0m         \u001b[0mupdate_wrapper\u001b[0m\u001b[0;34m(\u001b[0m\u001b[0mout\u001b[0m\u001b[0;34m,\u001b[0m \u001b[0mself\u001b[0m\u001b[0;34m.\u001b[0m\u001b[0mfn\u001b[0m\u001b[0;34m)\u001b[0m\u001b[0;34m\u001b[0m\u001b[0;34m\u001b[0m\u001b[0m\n",
      "\u001b[0;32m/opt/conda/lib/python3.7/site-packages/sklearn/pipeline.py\u001b[0m in \u001b[0;36mpredict_proba\u001b[0;34m(self, X)\u001b[0m\n\u001b[1;32m    469\u001b[0m         \u001b[0mXt\u001b[0m \u001b[0;34m=\u001b[0m \u001b[0mX\u001b[0m\u001b[0;34m\u001b[0m\u001b[0;34m\u001b[0m\u001b[0m\n\u001b[1;32m    470\u001b[0m         \u001b[0;32mfor\u001b[0m \u001b[0m_\u001b[0m\u001b[0;34m,\u001b[0m \u001b[0mname\u001b[0m\u001b[0;34m,\u001b[0m \u001b[0mtransform\u001b[0m \u001b[0;32min\u001b[0m \u001b[0mself\u001b[0m\u001b[0;34m.\u001b[0m\u001b[0m_iter\u001b[0m\u001b[0;34m(\u001b[0m\u001b[0mwith_final\u001b[0m\u001b[0;34m=\u001b[0m\u001b[0;32mFalse\u001b[0m\u001b[0;34m)\u001b[0m\u001b[0;34m:\u001b[0m\u001b[0;34m\u001b[0m\u001b[0;34m\u001b[0m\u001b[0m\n\u001b[0;32m--> 471\u001b[0;31m             \u001b[0mXt\u001b[0m \u001b[0;34m=\u001b[0m \u001b[0mtransform\u001b[0m\u001b[0;34m.\u001b[0m\u001b[0mtransform\u001b[0m\u001b[0;34m(\u001b[0m\u001b[0mXt\u001b[0m\u001b[0;34m)\u001b[0m\u001b[0;34m\u001b[0m\u001b[0;34m\u001b[0m\u001b[0m\n\u001b[0m\u001b[1;32m    472\u001b[0m         \u001b[0;32mreturn\u001b[0m \u001b[0mself\u001b[0m\u001b[0;34m.\u001b[0m\u001b[0msteps\u001b[0m\u001b[0;34m[\u001b[0m\u001b[0;34m-\u001b[0m\u001b[0;36m1\u001b[0m\u001b[0;34m]\u001b[0m\u001b[0;34m[\u001b[0m\u001b[0;34m-\u001b[0m\u001b[0;36m1\u001b[0m\u001b[0;34m]\u001b[0m\u001b[0;34m.\u001b[0m\u001b[0mpredict_proba\u001b[0m\u001b[0;34m(\u001b[0m\u001b[0mXt\u001b[0m\u001b[0;34m)\u001b[0m\u001b[0;34m\u001b[0m\u001b[0;34m\u001b[0m\u001b[0m\n\u001b[1;32m    473\u001b[0m \u001b[0;34m\u001b[0m\u001b[0m\n",
      "\u001b[0;32m/opt/conda/lib/python3.7/site-packages/sklearn/decomposition/_base.py\u001b[0m in \u001b[0;36mtransform\u001b[0;34m(self, X)\u001b[0m\n\u001b[1;32m    123\u001b[0m         \u001b[0;34m>>\u001b[0m\u001b[0;34m>\u001b[0m \u001b[0mipca\u001b[0m\u001b[0;34m.\u001b[0m\u001b[0mtransform\u001b[0m\u001b[0;34m(\u001b[0m\u001b[0mX\u001b[0m\u001b[0;34m)\u001b[0m \u001b[0;31m# doctest: +SKIP\u001b[0m\u001b[0;34m\u001b[0m\u001b[0;34m\u001b[0m\u001b[0m\n\u001b[1;32m    124\u001b[0m         \"\"\"\n\u001b[0;32m--> 125\u001b[0;31m         \u001b[0mcheck_is_fitted\u001b[0m\u001b[0;34m(\u001b[0m\u001b[0mself\u001b[0m\u001b[0;34m)\u001b[0m\u001b[0;34m\u001b[0m\u001b[0;34m\u001b[0m\u001b[0m\n\u001b[0m\u001b[1;32m    126\u001b[0m \u001b[0;34m\u001b[0m\u001b[0m\n\u001b[1;32m    127\u001b[0m         \u001b[0mX\u001b[0m \u001b[0;34m=\u001b[0m \u001b[0mcheck_array\u001b[0m\u001b[0;34m(\u001b[0m\u001b[0mX\u001b[0m\u001b[0;34m)\u001b[0m\u001b[0;34m\u001b[0m\u001b[0;34m\u001b[0m\u001b[0m\n",
      "\u001b[0;32m/opt/conda/lib/python3.7/site-packages/sklearn/utils/validation.py\u001b[0m in \u001b[0;36mcheck_is_fitted\u001b[0;34m(estimator, attributes, msg, all_or_any)\u001b[0m\n\u001b[1;32m    965\u001b[0m \u001b[0;34m\u001b[0m\u001b[0m\n\u001b[1;32m    966\u001b[0m     \u001b[0;32mif\u001b[0m \u001b[0;32mnot\u001b[0m \u001b[0mattrs\u001b[0m\u001b[0;34m:\u001b[0m\u001b[0;34m\u001b[0m\u001b[0;34m\u001b[0m\u001b[0m\n\u001b[0;32m--> 967\u001b[0;31m         \u001b[0;32mraise\u001b[0m \u001b[0mNotFittedError\u001b[0m\u001b[0;34m(\u001b[0m\u001b[0mmsg\u001b[0m \u001b[0;34m%\u001b[0m \u001b[0;34m{\u001b[0m\u001b[0;34m'name'\u001b[0m\u001b[0;34m:\u001b[0m \u001b[0mtype\u001b[0m\u001b[0;34m(\u001b[0m\u001b[0mestimator\u001b[0m\u001b[0;34m)\u001b[0m\u001b[0;34m.\u001b[0m\u001b[0m__name__\u001b[0m\u001b[0;34m}\u001b[0m\u001b[0;34m)\u001b[0m\u001b[0;34m\u001b[0m\u001b[0;34m\u001b[0m\u001b[0m\n\u001b[0m\u001b[1;32m    968\u001b[0m \u001b[0;34m\u001b[0m\u001b[0m\n\u001b[1;32m    969\u001b[0m \u001b[0;34m\u001b[0m\u001b[0m\n",
      "\u001b[0;31mNotFittedError\u001b[0m: This PCA instance is not fitted yet. Call 'fit' with appropriate arguments before using this estimator."
     ]
    }
   ],
   "source": [
    "test_pred_probs_fnn = pipe_best_fnn.predict_proba(X_test)[:,1]\n",
    "test_fpr_fnn, test_tpr_fnn, test_thresholds_fnn = metrics.roc_curve(y_test, test_pred_probs_fnn) #Curve on testing data\n",
    "\n",
    "test_pred_probs_tree = pipe_best_tree.predict_proba(X_test)[:,1]\n",
    "test_fpr_tree, test_tpr_tree, test_thresholds_tree = metrics.roc_curve(y_test, test_pred_probs_tree) #Curve on testing data\n",
    "\n",
    "plt.figure(figsize=(16,9))\n",
    "plot_roc(test_fpr_tree, test_tpr_tree, label='Tree')\n",
    "plot_roc(test_fpr_fnn, test_tpr_fnn, label='NN')\n",
    "plt.legend()\n",
    "plt.show()\n"
   ]
  },
  {
   "cell_type": "code",
   "execution_count": 97,
   "metadata": {
    "colab": {
     "base_uri": "https://localhost:8080/",
     "height": 34
    },
    "colab_type": "code",
    "id": "WKmvxv0Bis58",
    "outputId": "43064df6-200e-440f-e499-12af95889983"
   },
   "outputs": [
    {
     "name": "stdout",
     "output_type": "stream",
     "text": [
      "Score on testing data: 0.9037723230872118\n"
     ]
    }
   ],
   "source": [
    "#AUC Score on the testing data\n",
    "print(\"Score on testing data: {0}\".format(metrics.roc_auc_score(y_test, test_pred_probs)))"
   ]
  },
  {
   "cell_type": "markdown",
   "metadata": {
    "colab_type": "text",
    "id": "Xhq7iM7yY8YS"
   },
   "source": [
    "# Model Testing\n",
    "Finally, we can apply our model to the churn_test dataset:"
   ]
  },
  {
   "cell_type": "code",
   "execution_count": 98,
   "metadata": {
    "colab": {},
    "colab_type": "code",
    "id": "ySk8RC22Zv3r"
   },
   "outputs": [],
   "source": [
    "#Read test_csv from hosting site\n",
    "churn_test = pd.read_csv('http://www.sharecsv.com/dl/08ce6f42b30a9ffdb420ea3a8a585d9e/churn_test.csv')"
   ]
  },
  {
   "cell_type": "code",
   "execution_count": 99,
   "metadata": {
    "colab": {},
    "colab_type": "code",
    "id": "Inhe3shSNBNf"
   },
   "outputs": [],
   "source": [
    "#Remove cols via previously defined function\n",
    "test_clean = remove_linearly_dependent(churn_test)"
   ]
  },
  {
   "cell_type": "code",
   "execution_count": 100,
   "metadata": {
    "colab": {},
    "colab_type": "code",
    "id": "6MuDIOPANZdy"
   },
   "outputs": [],
   "source": [
    "imp_test = IterativeImputer(max_iter=100, random_state=0)\n",
    "test_imputed = test_clean.copy()\n",
    "test_imputed[:] = imp_test.fit_transform(test_clean)"
   ]
  },
  {
   "cell_type": "code",
   "execution_count": 101,
   "metadata": {
    "colab": {},
    "colab_type": "code",
    "id": "qJy7_oVoOv_c"
   },
   "outputs": [],
   "source": [
    "test_results = pipe_best_fnn.predict_proba(test_imputed.drop(['churn'], axis=1))[:,1]\n",
    "test_fpr, test_tpr, test_thresholds = metrics.roc_curve(test_imputed['churn'], test_results) #Curve on testing data"
   ]
  },
  {
   "cell_type": "code",
   "execution_count": 102,
   "metadata": {
    "colab": {
     "base_uri": "https://localhost:8080/",
     "height": 34
    },
    "colab_type": "code",
    "id": "zIqwbQNPShQA",
    "outputId": "89c805cf-94f4-492d-dfbc-34b37eb44b35"
   },
   "outputs": [
    {
     "name": "stdout",
     "output_type": "stream",
     "text": [
      "Score on testing data: 0.8656032496965794\n"
     ]
    }
   ],
   "source": [
    "print(\"Score on testing data: {0}\".format(metrics.roc_auc_score(test_imputed['churn'], test_results)))"
   ]
  }
 ],
 "metadata": {
  "colab": {
   "collapsed_sections": [],
   "name": "final-assignment.ipynb",
   "provenance": [],
   "toc_visible": true
  },
  "environment": {
   "name": "common-cpu.m47",
   "type": "gcloud",
   "uri": "gcr.io/deeplearning-platform-release/base-cpu:m47"
  },
  "kernelspec": {
   "display_name": "Python 3",
   "language": "python",
   "name": "python3"
  },
  "language_info": {
   "codemirror_mode": {
    "name": "ipython",
    "version": 3
   },
   "file_extension": ".py",
   "mimetype": "text/x-python",
   "name": "python",
   "nbconvert_exporter": "python",
   "pygments_lexer": "ipython3",
   "version": "3.7.6"
  }
 },
 "nbformat": 4,
 "nbformat_minor": 4
}
